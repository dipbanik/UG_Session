{
  "cells": [
    {
      "cell_type": "markdown",
      "source": [
        "Copyright (c) Microsoft Corporation. All rights reserved."
      ],
      "metadata": {}
    },
    {
      "cell_type": "markdown",
      "source": [
        "![Impressions](https://PixelServer20190423114238.azurewebsites.net/api/impressions/NotebookVM/tutorials/regression-part2-automated-ml.png)"
      ],
      "metadata": {}
    },
    {
      "cell_type": "markdown",
      "source": [
        "# Tutorial: Use automated machine learning to predict taxi fares"
      ],
      "metadata": {}
    },
    {
      "cell_type": "markdown",
      "source": [
        "In this tutorial, you use automated machine learning in Azure Machine Learning service to create a regression model to predict NYC taxi fare prices. This process accepts training data and configuration settings, and automatically iterates through combinations of different feature normalization/standardization methods, models, and hyperparameter settings to arrive at the best model.\n",
        "\n",
        "In this tutorial you learn the following tasks:\n",
        "\n",
        "* Download, transform, and clean data using Azure Open Datasets\n",
        "* Train an automated machine learning regression model\n",
        "* Calculate model accuracy\n",
        "\n",
        "If you donâ€™t have an Azure subscription, create a free account before you begin. Try the [free or paid version](https://aka.ms/AMLFree) of Azure Machine Learning service today."
      ],
      "metadata": {}
    },
    {
      "cell_type": "markdown",
      "source": [
        "## Prerequisites"
      ],
      "metadata": {}
    },
    {
      "cell_type": "markdown",
      "source": [
        "* Complete the [setup tutorial](https://docs.microsoft.com/azure/machine-learning/service/tutorial-1st-experiment-sdk-setup) if you don't already have an Azure Machine Learning service workspace or notebook virtual machine.\n",
        "* After you complete the setup tutorial, open the **tutorials/regression-automated-ml.ipynb** notebook using the same notebook server.\n",
        "\n",
        "This tutorial is also available on [GitHub](https://github.com/Azure/MachineLearningNotebooks/tree/master/tutorials) if you wish to run it in your own [local environment](https://github.com/Azure/MachineLearningNotebooks/blob/master/how-to-use-azureml/automated-machine-learning/README.md#setup-using-a-local-conda-environment)."
      ],
      "metadata": {}
    },
    {
      "cell_type": "markdown",
      "source": [
        "## Download and prepare data"
      ],
      "metadata": {}
    },
    {
      "cell_type": "markdown",
      "source": [
        "Import the necessary packages. The Open Datasets package contains a class representing each data source (`NycTlcGreen` for example) to easily filter date parameters before downloading."
      ],
      "metadata": {}
    },
    {
      "cell_type": "code",
      "source": [
        "import pandas as pd\n",
        "from azureml.core import Dataset\n",
        "from datetime import datetime\n",
        "from dateutil.relativedelta import relativedelta"
      ],
      "outputs": [],
      "execution_count": 1,
      "metadata": {
        "gather": {
          "logged": 1624527347793
        }
      }
    },
    {
      "cell_type": "markdown",
      "source": [
        "Begin by creating a dataframe to hold the taxi data. Then preview the data."
      ],
      "metadata": {}
    },
    {
      "cell_type": "code",
      "source": [
        "green_taxi_dataset = Dataset.Tabular.from_parquet_files(path=\"https://automlsamplenotebookdata.blob.core.windows.net/automl-sample-notebook-data/green_taxi_data.parquet\")\n",
        "green_taxi_df = green_taxi_dataset.to_pandas_dataframe()\n",
        "green_taxi_df.head(10)"
      ],
      "outputs": [
        {
          "output_type": "execute_result",
          "execution_count": 2,
          "data": {
            "text/plain": "   vendorID         lpepPickupDatetime        lpepDropoffDatetime  \\\n0         2 1970-01-01 00:23:42.643089 1970-01-01 00:23:42.644509   \n1         1 1970-01-01 00:23:41.536899 1970-01-01 00:23:41.537716   \n2         2 1970-01-01 00:23:41.372320 1970-01-01 00:23:41.373175   \n3         2 1970-01-01 00:23:40.391366 1970-01-01 00:23:40.391772   \n4         1 1970-01-01 00:23:41.230257 1970-01-01 00:23:41.231610   \n5         2 1970-01-01 00:23:41.691041 1970-01-01 00:23:41.692340   \n6         2 1970-01-01 00:23:40.127061 1970-01-01 00:23:40.127416   \n7         2 1970-01-01 00:23:41.049681 1970-01-01 00:23:41.050492   \n8         1 1970-01-01 00:23:41.445266 1970-01-01 00:23:41.446359   \n9         2 1970-01-01 00:23:40.526093 1970-01-01 00:23:40.526663   \n\n   passengerCount  tripDistance puLocationId doLocationId  pickupLongitude  \\\n0               1          1.88         None         None       -73.996155   \n1               1          2.70         None         None       -73.978508   \n2               1          3.54         None         None       -73.957787   \n3               1          1.00         None         None       -73.919914   \n4               1          5.10         None         None       -73.943710   \n5               1          7.41         None         None       -73.940918   \n6               1          1.03         None         None       -73.985718   \n7               5          2.94         None         None       -73.939865   \n8               1          3.00         None         None       -73.957939   \n9               1          2.31         None         None       -73.943825   \n\n   pickupLatitude  dropoffLongitude  ...  fareAmount  extra mtaTax  \\\n0       40.690903        -73.964287  ...        15.0    1.0    0.5   \n1       40.687984        -73.955116  ...        11.5    0.5    0.5   \n2       40.721779        -73.963005  ...        13.5    0.5    0.5   \n3       40.826023        -73.904839  ...         6.5    0.0    0.5   \n4       40.825439        -73.982964  ...        18.5    0.0    0.5   \n5       40.839714        -73.994339  ...        24.0    0.0    0.5   \n6       40.685646        -73.996773  ...         6.5    0.0    0.5   \n7       40.789822        -73.952957  ...        12.5    0.0    0.5   \n8       40.721928        -73.926247  ...        14.0    0.5    0.5   \n9       40.810257        -73.943062  ...        10.0    0.0    0.5   \n\n   improvementSurcharge  tipAmount  tollsAmount  ehailFee totalAmount  \\\n0                   0.3       4.00          0.0      None       20.80   \n1                   0.3       2.55          0.0      None       15.35   \n2                   0.3       2.80          0.0      None       17.60   \n3                   0.3       0.00          0.0      None        7.30   \n4                   0.3       3.85          0.0      None       23.15   \n5                   0.3       4.80          0.0      None       29.60   \n6                   0.3       1.30          0.0      None        8.60   \n7                   0.3       0.00          0.0      None       13.30   \n8                   0.3       2.00          0.0      None       17.30   \n9                   0.3       2.00          0.0      None       12.80   \n\n   tripType          __index_level_0__  \n0       1.0 1970-01-01 00:23:42.643089  \n1       1.0 1970-01-01 00:23:41.536899  \n2       1.0 1970-01-01 00:23:41.372320  \n3       1.0 1970-01-01 00:23:40.391366  \n4       1.0 1970-01-01 00:23:41.230257  \n5       1.0 1970-01-01 00:23:41.691041  \n6       1.0 1970-01-01 00:23:40.127061  \n7       1.0 1970-01-01 00:23:41.049681  \n8       1.0 1970-01-01 00:23:41.445266  \n9       1.0 1970-01-01 00:23:40.526093  \n\n[10 rows x 24 columns]",
            "text/html": "<div>\n<style scoped>\n    .dataframe tbody tr th:only-of-type {\n        vertical-align: middle;\n    }\n\n    .dataframe tbody tr th {\n        vertical-align: top;\n    }\n\n    .dataframe thead th {\n        text-align: right;\n    }\n</style>\n<table border=\"1\" class=\"dataframe\">\n  <thead>\n    <tr style=\"text-align: right;\">\n      <th></th>\n      <th>vendorID</th>\n      <th>lpepPickupDatetime</th>\n      <th>lpepDropoffDatetime</th>\n      <th>passengerCount</th>\n      <th>tripDistance</th>\n      <th>puLocationId</th>\n      <th>doLocationId</th>\n      <th>pickupLongitude</th>\n      <th>pickupLatitude</th>\n      <th>dropoffLongitude</th>\n      <th>...</th>\n      <th>fareAmount</th>\n      <th>extra</th>\n      <th>mtaTax</th>\n      <th>improvementSurcharge</th>\n      <th>tipAmount</th>\n      <th>tollsAmount</th>\n      <th>ehailFee</th>\n      <th>totalAmount</th>\n      <th>tripType</th>\n      <th>__index_level_0__</th>\n    </tr>\n  </thead>\n  <tbody>\n    <tr>\n      <th>0</th>\n      <td>2</td>\n      <td>1970-01-01 00:23:42.643089</td>\n      <td>1970-01-01 00:23:42.644509</td>\n      <td>1</td>\n      <td>1.88</td>\n      <td>None</td>\n      <td>None</td>\n      <td>-73.996155</td>\n      <td>40.690903</td>\n      <td>-73.964287</td>\n      <td>...</td>\n      <td>15.0</td>\n      <td>1.0</td>\n      <td>0.5</td>\n      <td>0.3</td>\n      <td>4.00</td>\n      <td>0.0</td>\n      <td>None</td>\n      <td>20.80</td>\n      <td>1.0</td>\n      <td>1970-01-01 00:23:42.643089</td>\n    </tr>\n    <tr>\n      <th>1</th>\n      <td>1</td>\n      <td>1970-01-01 00:23:41.536899</td>\n      <td>1970-01-01 00:23:41.537716</td>\n      <td>1</td>\n      <td>2.70</td>\n      <td>None</td>\n      <td>None</td>\n      <td>-73.978508</td>\n      <td>40.687984</td>\n      <td>-73.955116</td>\n      <td>...</td>\n      <td>11.5</td>\n      <td>0.5</td>\n      <td>0.5</td>\n      <td>0.3</td>\n      <td>2.55</td>\n      <td>0.0</td>\n      <td>None</td>\n      <td>15.35</td>\n      <td>1.0</td>\n      <td>1970-01-01 00:23:41.536899</td>\n    </tr>\n    <tr>\n      <th>2</th>\n      <td>2</td>\n      <td>1970-01-01 00:23:41.372320</td>\n      <td>1970-01-01 00:23:41.373175</td>\n      <td>1</td>\n      <td>3.54</td>\n      <td>None</td>\n      <td>None</td>\n      <td>-73.957787</td>\n      <td>40.721779</td>\n      <td>-73.963005</td>\n      <td>...</td>\n      <td>13.5</td>\n      <td>0.5</td>\n      <td>0.5</td>\n      <td>0.3</td>\n      <td>2.80</td>\n      <td>0.0</td>\n      <td>None</td>\n      <td>17.60</td>\n      <td>1.0</td>\n      <td>1970-01-01 00:23:41.372320</td>\n    </tr>\n    <tr>\n      <th>3</th>\n      <td>2</td>\n      <td>1970-01-01 00:23:40.391366</td>\n      <td>1970-01-01 00:23:40.391772</td>\n      <td>1</td>\n      <td>1.00</td>\n      <td>None</td>\n      <td>None</td>\n      <td>-73.919914</td>\n      <td>40.826023</td>\n      <td>-73.904839</td>\n      <td>...</td>\n      <td>6.5</td>\n      <td>0.0</td>\n      <td>0.5</td>\n      <td>0.3</td>\n      <td>0.00</td>\n      <td>0.0</td>\n      <td>None</td>\n      <td>7.30</td>\n      <td>1.0</td>\n      <td>1970-01-01 00:23:40.391366</td>\n    </tr>\n    <tr>\n      <th>4</th>\n      <td>1</td>\n      <td>1970-01-01 00:23:41.230257</td>\n      <td>1970-01-01 00:23:41.231610</td>\n      <td>1</td>\n      <td>5.10</td>\n      <td>None</td>\n      <td>None</td>\n      <td>-73.943710</td>\n      <td>40.825439</td>\n      <td>-73.982964</td>\n      <td>...</td>\n      <td>18.5</td>\n      <td>0.0</td>\n      <td>0.5</td>\n      <td>0.3</td>\n      <td>3.85</td>\n      <td>0.0</td>\n      <td>None</td>\n      <td>23.15</td>\n      <td>1.0</td>\n      <td>1970-01-01 00:23:41.230257</td>\n    </tr>\n    <tr>\n      <th>5</th>\n      <td>2</td>\n      <td>1970-01-01 00:23:41.691041</td>\n      <td>1970-01-01 00:23:41.692340</td>\n      <td>1</td>\n      <td>7.41</td>\n      <td>None</td>\n      <td>None</td>\n      <td>-73.940918</td>\n      <td>40.839714</td>\n      <td>-73.994339</td>\n      <td>...</td>\n      <td>24.0</td>\n      <td>0.0</td>\n      <td>0.5</td>\n      <td>0.3</td>\n      <td>4.80</td>\n      <td>0.0</td>\n      <td>None</td>\n      <td>29.60</td>\n      <td>1.0</td>\n      <td>1970-01-01 00:23:41.691041</td>\n    </tr>\n    <tr>\n      <th>6</th>\n      <td>2</td>\n      <td>1970-01-01 00:23:40.127061</td>\n      <td>1970-01-01 00:23:40.127416</td>\n      <td>1</td>\n      <td>1.03</td>\n      <td>None</td>\n      <td>None</td>\n      <td>-73.985718</td>\n      <td>40.685646</td>\n      <td>-73.996773</td>\n      <td>...</td>\n      <td>6.5</td>\n      <td>0.0</td>\n      <td>0.5</td>\n      <td>0.3</td>\n      <td>1.30</td>\n      <td>0.0</td>\n      <td>None</td>\n      <td>8.60</td>\n      <td>1.0</td>\n      <td>1970-01-01 00:23:40.127061</td>\n    </tr>\n    <tr>\n      <th>7</th>\n      <td>2</td>\n      <td>1970-01-01 00:23:41.049681</td>\n      <td>1970-01-01 00:23:41.050492</td>\n      <td>5</td>\n      <td>2.94</td>\n      <td>None</td>\n      <td>None</td>\n      <td>-73.939865</td>\n      <td>40.789822</td>\n      <td>-73.952957</td>\n      <td>...</td>\n      <td>12.5</td>\n      <td>0.0</td>\n      <td>0.5</td>\n      <td>0.3</td>\n      <td>0.00</td>\n      <td>0.0</td>\n      <td>None</td>\n      <td>13.30</td>\n      <td>1.0</td>\n      <td>1970-01-01 00:23:41.049681</td>\n    </tr>\n    <tr>\n      <th>8</th>\n      <td>1</td>\n      <td>1970-01-01 00:23:41.445266</td>\n      <td>1970-01-01 00:23:41.446359</td>\n      <td>1</td>\n      <td>3.00</td>\n      <td>None</td>\n      <td>None</td>\n      <td>-73.957939</td>\n      <td>40.721928</td>\n      <td>-73.926247</td>\n      <td>...</td>\n      <td>14.0</td>\n      <td>0.5</td>\n      <td>0.5</td>\n      <td>0.3</td>\n      <td>2.00</td>\n      <td>0.0</td>\n      <td>None</td>\n      <td>17.30</td>\n      <td>1.0</td>\n      <td>1970-01-01 00:23:41.445266</td>\n    </tr>\n    <tr>\n      <th>9</th>\n      <td>2</td>\n      <td>1970-01-01 00:23:40.526093</td>\n      <td>1970-01-01 00:23:40.526663</td>\n      <td>1</td>\n      <td>2.31</td>\n      <td>None</td>\n      <td>None</td>\n      <td>-73.943825</td>\n      <td>40.810257</td>\n      <td>-73.943062</td>\n      <td>...</td>\n      <td>10.0</td>\n      <td>0.0</td>\n      <td>0.5</td>\n      <td>0.3</td>\n      <td>2.00</td>\n      <td>0.0</td>\n      <td>None</td>\n      <td>12.80</td>\n      <td>1.0</td>\n      <td>1970-01-01 00:23:40.526093</td>\n    </tr>\n  </tbody>\n</table>\n<p>10 rows × 24 columns</p>\n</div>"
          },
          "metadata": {}
        }
      ],
      "execution_count": 2,
      "metadata": {
        "gather": {
          "logged": 1624527355229
        }
      }
    },
    {
      "cell_type": "markdown",
      "source": [
        "Now that the initial data is loaded, define a function to create various time-based features from the pickup datetime field. This will create new fields for the month number, day of month, day of week, and hour of day, and will allow the model to factor in time-based seasonality. \n",
        "\n",
        "Use the `apply()` function on the dataframe to iteratively apply the `build_time_features()` function to each row in the taxi data."
      ],
      "metadata": {}
    },
    {
      "cell_type": "code",
      "source": [
        "def build_time_features(vector):\n",
        "    pickup_datetime = vector[0]\n",
        "    month_num = pickup_datetime.month\n",
        "    day_of_month = pickup_datetime.day\n",
        "    day_of_week = pickup_datetime.weekday()\n",
        "    hour_of_day = pickup_datetime.hour\n",
        "    \n",
        "    return pd.Series((month_num, day_of_month, day_of_week, hour_of_day))\n",
        "\n",
        "green_taxi_df[[\"month_num\", \"day_of_month\",\"day_of_week\", \"hour_of_day\"]] = green_taxi_df[[\"lpepPickupDatetime\"]].apply(build_time_features, axis=1)\n",
        "green_taxi_df.head(10)"
      ],
      "outputs": [
        {
          "output_type": "execute_result",
          "execution_count": 3,
          "data": {
            "text/plain": "   vendorID         lpepPickupDatetime        lpepDropoffDatetime  \\\n0         2 1970-01-01 00:23:42.643089 1970-01-01 00:23:42.644509   \n1         1 1970-01-01 00:23:41.536899 1970-01-01 00:23:41.537716   \n2         2 1970-01-01 00:23:41.372320 1970-01-01 00:23:41.373175   \n3         2 1970-01-01 00:23:40.391366 1970-01-01 00:23:40.391772   \n4         1 1970-01-01 00:23:41.230257 1970-01-01 00:23:41.231610   \n5         2 1970-01-01 00:23:41.691041 1970-01-01 00:23:41.692340   \n6         2 1970-01-01 00:23:40.127061 1970-01-01 00:23:40.127416   \n7         2 1970-01-01 00:23:41.049681 1970-01-01 00:23:41.050492   \n8         1 1970-01-01 00:23:41.445266 1970-01-01 00:23:41.446359   \n9         2 1970-01-01 00:23:40.526093 1970-01-01 00:23:40.526663   \n\n   passengerCount  tripDistance puLocationId doLocationId  pickupLongitude  \\\n0               1          1.88         None         None       -73.996155   \n1               1          2.70         None         None       -73.978508   \n2               1          3.54         None         None       -73.957787   \n3               1          1.00         None         None       -73.919914   \n4               1          5.10         None         None       -73.943710   \n5               1          7.41         None         None       -73.940918   \n6               1          1.03         None         None       -73.985718   \n7               5          2.94         None         None       -73.939865   \n8               1          3.00         None         None       -73.957939   \n9               1          2.31         None         None       -73.943825   \n\n   pickupLatitude  dropoffLongitude  ...  tipAmount  tollsAmount ehailFee  \\\n0       40.690903        -73.964287  ...       4.00          0.0     None   \n1       40.687984        -73.955116  ...       2.55          0.0     None   \n2       40.721779        -73.963005  ...       2.80          0.0     None   \n3       40.826023        -73.904839  ...       0.00          0.0     None   \n4       40.825439        -73.982964  ...       3.85          0.0     None   \n5       40.839714        -73.994339  ...       4.80          0.0     None   \n6       40.685646        -73.996773  ...       1.30          0.0     None   \n7       40.789822        -73.952957  ...       0.00          0.0     None   \n8       40.721928        -73.926247  ...       2.00          0.0     None   \n9       40.810257        -73.943062  ...       2.00          0.0     None   \n\n   totalAmount  tripType          __index_level_0__  month_num day_of_month  \\\n0        20.80       1.0 1970-01-01 00:23:42.643089          1            1   \n1        15.35       1.0 1970-01-01 00:23:41.536899          1            1   \n2        17.60       1.0 1970-01-01 00:23:41.372320          1            1   \n3         7.30       1.0 1970-01-01 00:23:40.391366          1            1   \n4        23.15       1.0 1970-01-01 00:23:41.230257          1            1   \n5        29.60       1.0 1970-01-01 00:23:41.691041          1            1   \n6         8.60       1.0 1970-01-01 00:23:40.127061          1            1   \n7        13.30       1.0 1970-01-01 00:23:41.049681          1            1   \n8        17.30       1.0 1970-01-01 00:23:41.445266          1            1   \n9        12.80       1.0 1970-01-01 00:23:40.526093          1            1   \n\n   day_of_week  hour_of_day  \n0            3            0  \n1            3            0  \n2            3            0  \n3            3            0  \n4            3            0  \n5            3            0  \n6            3            0  \n7            3            0  \n8            3            0  \n9            3            0  \n\n[10 rows x 28 columns]",
            "text/html": "<div>\n<style scoped>\n    .dataframe tbody tr th:only-of-type {\n        vertical-align: middle;\n    }\n\n    .dataframe tbody tr th {\n        vertical-align: top;\n    }\n\n    .dataframe thead th {\n        text-align: right;\n    }\n</style>\n<table border=\"1\" class=\"dataframe\">\n  <thead>\n    <tr style=\"text-align: right;\">\n      <th></th>\n      <th>vendorID</th>\n      <th>lpepPickupDatetime</th>\n      <th>lpepDropoffDatetime</th>\n      <th>passengerCount</th>\n      <th>tripDistance</th>\n      <th>puLocationId</th>\n      <th>doLocationId</th>\n      <th>pickupLongitude</th>\n      <th>pickupLatitude</th>\n      <th>dropoffLongitude</th>\n      <th>...</th>\n      <th>tipAmount</th>\n      <th>tollsAmount</th>\n      <th>ehailFee</th>\n      <th>totalAmount</th>\n      <th>tripType</th>\n      <th>__index_level_0__</th>\n      <th>month_num</th>\n      <th>day_of_month</th>\n      <th>day_of_week</th>\n      <th>hour_of_day</th>\n    </tr>\n  </thead>\n  <tbody>\n    <tr>\n      <th>0</th>\n      <td>2</td>\n      <td>1970-01-01 00:23:42.643089</td>\n      <td>1970-01-01 00:23:42.644509</td>\n      <td>1</td>\n      <td>1.88</td>\n      <td>None</td>\n      <td>None</td>\n      <td>-73.996155</td>\n      <td>40.690903</td>\n      <td>-73.964287</td>\n      <td>...</td>\n      <td>4.00</td>\n      <td>0.0</td>\n      <td>None</td>\n      <td>20.80</td>\n      <td>1.0</td>\n      <td>1970-01-01 00:23:42.643089</td>\n      <td>1</td>\n      <td>1</td>\n      <td>3</td>\n      <td>0</td>\n    </tr>\n    <tr>\n      <th>1</th>\n      <td>1</td>\n      <td>1970-01-01 00:23:41.536899</td>\n      <td>1970-01-01 00:23:41.537716</td>\n      <td>1</td>\n      <td>2.70</td>\n      <td>None</td>\n      <td>None</td>\n      <td>-73.978508</td>\n      <td>40.687984</td>\n      <td>-73.955116</td>\n      <td>...</td>\n      <td>2.55</td>\n      <td>0.0</td>\n      <td>None</td>\n      <td>15.35</td>\n      <td>1.0</td>\n      <td>1970-01-01 00:23:41.536899</td>\n      <td>1</td>\n      <td>1</td>\n      <td>3</td>\n      <td>0</td>\n    </tr>\n    <tr>\n      <th>2</th>\n      <td>2</td>\n      <td>1970-01-01 00:23:41.372320</td>\n      <td>1970-01-01 00:23:41.373175</td>\n      <td>1</td>\n      <td>3.54</td>\n      <td>None</td>\n      <td>None</td>\n      <td>-73.957787</td>\n      <td>40.721779</td>\n      <td>-73.963005</td>\n      <td>...</td>\n      <td>2.80</td>\n      <td>0.0</td>\n      <td>None</td>\n      <td>17.60</td>\n      <td>1.0</td>\n      <td>1970-01-01 00:23:41.372320</td>\n      <td>1</td>\n      <td>1</td>\n      <td>3</td>\n      <td>0</td>\n    </tr>\n    <tr>\n      <th>3</th>\n      <td>2</td>\n      <td>1970-01-01 00:23:40.391366</td>\n      <td>1970-01-01 00:23:40.391772</td>\n      <td>1</td>\n      <td>1.00</td>\n      <td>None</td>\n      <td>None</td>\n      <td>-73.919914</td>\n      <td>40.826023</td>\n      <td>-73.904839</td>\n      <td>...</td>\n      <td>0.00</td>\n      <td>0.0</td>\n      <td>None</td>\n      <td>7.30</td>\n      <td>1.0</td>\n      <td>1970-01-01 00:23:40.391366</td>\n      <td>1</td>\n      <td>1</td>\n      <td>3</td>\n      <td>0</td>\n    </tr>\n    <tr>\n      <th>4</th>\n      <td>1</td>\n      <td>1970-01-01 00:23:41.230257</td>\n      <td>1970-01-01 00:23:41.231610</td>\n      <td>1</td>\n      <td>5.10</td>\n      <td>None</td>\n      <td>None</td>\n      <td>-73.943710</td>\n      <td>40.825439</td>\n      <td>-73.982964</td>\n      <td>...</td>\n      <td>3.85</td>\n      <td>0.0</td>\n      <td>None</td>\n      <td>23.15</td>\n      <td>1.0</td>\n      <td>1970-01-01 00:23:41.230257</td>\n      <td>1</td>\n      <td>1</td>\n      <td>3</td>\n      <td>0</td>\n    </tr>\n    <tr>\n      <th>5</th>\n      <td>2</td>\n      <td>1970-01-01 00:23:41.691041</td>\n      <td>1970-01-01 00:23:41.692340</td>\n      <td>1</td>\n      <td>7.41</td>\n      <td>None</td>\n      <td>None</td>\n      <td>-73.940918</td>\n      <td>40.839714</td>\n      <td>-73.994339</td>\n      <td>...</td>\n      <td>4.80</td>\n      <td>0.0</td>\n      <td>None</td>\n      <td>29.60</td>\n      <td>1.0</td>\n      <td>1970-01-01 00:23:41.691041</td>\n      <td>1</td>\n      <td>1</td>\n      <td>3</td>\n      <td>0</td>\n    </tr>\n    <tr>\n      <th>6</th>\n      <td>2</td>\n      <td>1970-01-01 00:23:40.127061</td>\n      <td>1970-01-01 00:23:40.127416</td>\n      <td>1</td>\n      <td>1.03</td>\n      <td>None</td>\n      <td>None</td>\n      <td>-73.985718</td>\n      <td>40.685646</td>\n      <td>-73.996773</td>\n      <td>...</td>\n      <td>1.30</td>\n      <td>0.0</td>\n      <td>None</td>\n      <td>8.60</td>\n      <td>1.0</td>\n      <td>1970-01-01 00:23:40.127061</td>\n      <td>1</td>\n      <td>1</td>\n      <td>3</td>\n      <td>0</td>\n    </tr>\n    <tr>\n      <th>7</th>\n      <td>2</td>\n      <td>1970-01-01 00:23:41.049681</td>\n      <td>1970-01-01 00:23:41.050492</td>\n      <td>5</td>\n      <td>2.94</td>\n      <td>None</td>\n      <td>None</td>\n      <td>-73.939865</td>\n      <td>40.789822</td>\n      <td>-73.952957</td>\n      <td>...</td>\n      <td>0.00</td>\n      <td>0.0</td>\n      <td>None</td>\n      <td>13.30</td>\n      <td>1.0</td>\n      <td>1970-01-01 00:23:41.049681</td>\n      <td>1</td>\n      <td>1</td>\n      <td>3</td>\n      <td>0</td>\n    </tr>\n    <tr>\n      <th>8</th>\n      <td>1</td>\n      <td>1970-01-01 00:23:41.445266</td>\n      <td>1970-01-01 00:23:41.446359</td>\n      <td>1</td>\n      <td>3.00</td>\n      <td>None</td>\n      <td>None</td>\n      <td>-73.957939</td>\n      <td>40.721928</td>\n      <td>-73.926247</td>\n      <td>...</td>\n      <td>2.00</td>\n      <td>0.0</td>\n      <td>None</td>\n      <td>17.30</td>\n      <td>1.0</td>\n      <td>1970-01-01 00:23:41.445266</td>\n      <td>1</td>\n      <td>1</td>\n      <td>3</td>\n      <td>0</td>\n    </tr>\n    <tr>\n      <th>9</th>\n      <td>2</td>\n      <td>1970-01-01 00:23:40.526093</td>\n      <td>1970-01-01 00:23:40.526663</td>\n      <td>1</td>\n      <td>2.31</td>\n      <td>None</td>\n      <td>None</td>\n      <td>-73.943825</td>\n      <td>40.810257</td>\n      <td>-73.943062</td>\n      <td>...</td>\n      <td>2.00</td>\n      <td>0.0</td>\n      <td>None</td>\n      <td>12.80</td>\n      <td>1.0</td>\n      <td>1970-01-01 00:23:40.526093</td>\n      <td>1</td>\n      <td>1</td>\n      <td>3</td>\n      <td>0</td>\n    </tr>\n  </tbody>\n</table>\n<p>10 rows × 28 columns</p>\n</div>"
          },
          "metadata": {}
        }
      ],
      "execution_count": 3,
      "metadata": {
        "gather": {
          "logged": 1624527361411
        }
      }
    },
    {
      "cell_type": "markdown",
      "source": [
        "Remove some of the columns that you won't need for training or additional feature building."
      ],
      "metadata": {}
    },
    {
      "cell_type": "code",
      "source": [
        "columns_to_remove = [\"lpepPickupDatetime\", \"lpepDropoffDatetime\", \"puLocationId\", \"doLocationId\", \"extra\", \"mtaTax\",\n",
        "                     \"improvementSurcharge\", \"tollsAmount\", \"ehailFee\", \"tripType\", \"rateCodeID\", \n",
        "                     \"storeAndFwdFlag\", \"paymentType\", \"fareAmount\", \"tipAmount\"\n",
        "                    ]\n",
        "for col in columns_to_remove:\n",
        "    green_taxi_df.pop(col)\n",
        "    \n",
        "green_taxi_df.head(5)"
      ],
      "outputs": [
        {
          "output_type": "execute_result",
          "execution_count": 4,
          "data": {
            "text/plain": "   vendorID  passengerCount  tripDistance  pickupLongitude  pickupLatitude  \\\n0         2               1          1.88       -73.996155       40.690903   \n1         1               1          2.70       -73.978508       40.687984   \n2         2               1          3.54       -73.957787       40.721779   \n3         2               1          1.00       -73.919914       40.826023   \n4         1               1          5.10       -73.943710       40.825439   \n\n   dropoffLongitude  dropoffLatitude  totalAmount          __index_level_0__  \\\n0        -73.964287        40.679707        20.80 1970-01-01 00:23:42.643089   \n1        -73.955116        40.708138        15.35 1970-01-01 00:23:41.536899   \n2        -73.963005        40.682774        17.60 1970-01-01 00:23:41.372320   \n3        -73.904839        40.821404         7.30 1970-01-01 00:23:40.391366   \n4        -73.982964        40.767857        23.15 1970-01-01 00:23:41.230257   \n\n   month_num  day_of_month  day_of_week  hour_of_day  \n0          1             1            3            0  \n1          1             1            3            0  \n2          1             1            3            0  \n3          1             1            3            0  \n4          1             1            3            0  ",
            "text/html": "<div>\n<style scoped>\n    .dataframe tbody tr th:only-of-type {\n        vertical-align: middle;\n    }\n\n    .dataframe tbody tr th {\n        vertical-align: top;\n    }\n\n    .dataframe thead th {\n        text-align: right;\n    }\n</style>\n<table border=\"1\" class=\"dataframe\">\n  <thead>\n    <tr style=\"text-align: right;\">\n      <th></th>\n      <th>vendorID</th>\n      <th>passengerCount</th>\n      <th>tripDistance</th>\n      <th>pickupLongitude</th>\n      <th>pickupLatitude</th>\n      <th>dropoffLongitude</th>\n      <th>dropoffLatitude</th>\n      <th>totalAmount</th>\n      <th>__index_level_0__</th>\n      <th>month_num</th>\n      <th>day_of_month</th>\n      <th>day_of_week</th>\n      <th>hour_of_day</th>\n    </tr>\n  </thead>\n  <tbody>\n    <tr>\n      <th>0</th>\n      <td>2</td>\n      <td>1</td>\n      <td>1.88</td>\n      <td>-73.996155</td>\n      <td>40.690903</td>\n      <td>-73.964287</td>\n      <td>40.679707</td>\n      <td>20.80</td>\n      <td>1970-01-01 00:23:42.643089</td>\n      <td>1</td>\n      <td>1</td>\n      <td>3</td>\n      <td>0</td>\n    </tr>\n    <tr>\n      <th>1</th>\n      <td>1</td>\n      <td>1</td>\n      <td>2.70</td>\n      <td>-73.978508</td>\n      <td>40.687984</td>\n      <td>-73.955116</td>\n      <td>40.708138</td>\n      <td>15.35</td>\n      <td>1970-01-01 00:23:41.536899</td>\n      <td>1</td>\n      <td>1</td>\n      <td>3</td>\n      <td>0</td>\n    </tr>\n    <tr>\n      <th>2</th>\n      <td>2</td>\n      <td>1</td>\n      <td>3.54</td>\n      <td>-73.957787</td>\n      <td>40.721779</td>\n      <td>-73.963005</td>\n      <td>40.682774</td>\n      <td>17.60</td>\n      <td>1970-01-01 00:23:41.372320</td>\n      <td>1</td>\n      <td>1</td>\n      <td>3</td>\n      <td>0</td>\n    </tr>\n    <tr>\n      <th>3</th>\n      <td>2</td>\n      <td>1</td>\n      <td>1.00</td>\n      <td>-73.919914</td>\n      <td>40.826023</td>\n      <td>-73.904839</td>\n      <td>40.821404</td>\n      <td>7.30</td>\n      <td>1970-01-01 00:23:40.391366</td>\n      <td>1</td>\n      <td>1</td>\n      <td>3</td>\n      <td>0</td>\n    </tr>\n    <tr>\n      <th>4</th>\n      <td>1</td>\n      <td>1</td>\n      <td>5.10</td>\n      <td>-73.943710</td>\n      <td>40.825439</td>\n      <td>-73.982964</td>\n      <td>40.767857</td>\n      <td>23.15</td>\n      <td>1970-01-01 00:23:41.230257</td>\n      <td>1</td>\n      <td>1</td>\n      <td>3</td>\n      <td>0</td>\n    </tr>\n  </tbody>\n</table>\n</div>"
          },
          "metadata": {}
        }
      ],
      "execution_count": 4,
      "metadata": {
        "gather": {
          "logged": 1624527361710
        }
      }
    },
    {
      "cell_type": "markdown",
      "source": [
        "### Cleanse data "
      ],
      "metadata": {}
    },
    {
      "cell_type": "markdown",
      "source": [
        "Run the `describe()` function on the new dataframe to see summary statistics for each field."
      ],
      "metadata": {}
    },
    {
      "cell_type": "code",
      "source": [
        "green_taxi_df.describe()"
      ],
      "outputs": [
        {
          "output_type": "execute_result",
          "execution_count": 5,
          "data": {
            "text/plain": "           vendorID  passengerCount  tripDistance  pickupLongitude  \\\ncount  24000.000000    24000.000000  24000.000000     24000.000000   \nmean       1.777625        1.373625      2.893981       -73.827403   \nstd        0.415850        1.046180      3.072343         2.821767   \nmin        1.000000        0.000000      0.000000       -74.357101   \n25%        2.000000        1.000000      1.050000       -73.959175   \n50%        2.000000        1.000000      1.930000       -73.945049   \n75%        2.000000        1.000000      3.700000       -73.917089   \nmax        2.000000        8.000000    154.280000         0.000000   \n\n       pickupLatitude  dropoffLongitude  dropoffLatitude   totalAmount  \\\ncount    24000.000000      24000.000000     24000.000000  24000.000000   \nmean        40.689730        -73.819670        40.684436     14.892744   \nstd          1.556082          2.901199         1.599776     12.339749   \nmin          0.000000        -74.342766         0.000000   -120.800000   \n25%         40.699127        -73.966476        40.699459      8.000000   \n50%         40.746754        -73.944221        40.747536     11.300000   \n75%         40.803060        -73.909061        40.791526     17.800000   \nmax         41.109089          0.000000        40.982826    425.000000   \n\n       month_num  day_of_month  day_of_week  hour_of_day  \ncount    24000.0       24000.0      24000.0      24000.0  \nmean         1.0           1.0          3.0          0.0  \nstd          0.0           0.0          0.0          0.0  \nmin          1.0           1.0          3.0          0.0  \n25%          1.0           1.0          3.0          0.0  \n50%          1.0           1.0          3.0          0.0  \n75%          1.0           1.0          3.0          0.0  \nmax          1.0           1.0          3.0          0.0  ",
            "text/html": "<div>\n<style scoped>\n    .dataframe tbody tr th:only-of-type {\n        vertical-align: middle;\n    }\n\n    .dataframe tbody tr th {\n        vertical-align: top;\n    }\n\n    .dataframe thead th {\n        text-align: right;\n    }\n</style>\n<table border=\"1\" class=\"dataframe\">\n  <thead>\n    <tr style=\"text-align: right;\">\n      <th></th>\n      <th>vendorID</th>\n      <th>passengerCount</th>\n      <th>tripDistance</th>\n      <th>pickupLongitude</th>\n      <th>pickupLatitude</th>\n      <th>dropoffLongitude</th>\n      <th>dropoffLatitude</th>\n      <th>totalAmount</th>\n      <th>month_num</th>\n      <th>day_of_month</th>\n      <th>day_of_week</th>\n      <th>hour_of_day</th>\n    </tr>\n  </thead>\n  <tbody>\n    <tr>\n      <th>count</th>\n      <td>24000.000000</td>\n      <td>24000.000000</td>\n      <td>24000.000000</td>\n      <td>24000.000000</td>\n      <td>24000.000000</td>\n      <td>24000.000000</td>\n      <td>24000.000000</td>\n      <td>24000.000000</td>\n      <td>24000.0</td>\n      <td>24000.0</td>\n      <td>24000.0</td>\n      <td>24000.0</td>\n    </tr>\n    <tr>\n      <th>mean</th>\n      <td>1.777625</td>\n      <td>1.373625</td>\n      <td>2.893981</td>\n      <td>-73.827403</td>\n      <td>40.689730</td>\n      <td>-73.819670</td>\n      <td>40.684436</td>\n      <td>14.892744</td>\n      <td>1.0</td>\n      <td>1.0</td>\n      <td>3.0</td>\n      <td>0.0</td>\n    </tr>\n    <tr>\n      <th>std</th>\n      <td>0.415850</td>\n      <td>1.046180</td>\n      <td>3.072343</td>\n      <td>2.821767</td>\n      <td>1.556082</td>\n      <td>2.901199</td>\n      <td>1.599776</td>\n      <td>12.339749</td>\n      <td>0.0</td>\n      <td>0.0</td>\n      <td>0.0</td>\n      <td>0.0</td>\n    </tr>\n    <tr>\n      <th>min</th>\n      <td>1.000000</td>\n      <td>0.000000</td>\n      <td>0.000000</td>\n      <td>-74.357101</td>\n      <td>0.000000</td>\n      <td>-74.342766</td>\n      <td>0.000000</td>\n      <td>-120.800000</td>\n      <td>1.0</td>\n      <td>1.0</td>\n      <td>3.0</td>\n      <td>0.0</td>\n    </tr>\n    <tr>\n      <th>25%</th>\n      <td>2.000000</td>\n      <td>1.000000</td>\n      <td>1.050000</td>\n      <td>-73.959175</td>\n      <td>40.699127</td>\n      <td>-73.966476</td>\n      <td>40.699459</td>\n      <td>8.000000</td>\n      <td>1.0</td>\n      <td>1.0</td>\n      <td>3.0</td>\n      <td>0.0</td>\n    </tr>\n    <tr>\n      <th>50%</th>\n      <td>2.000000</td>\n      <td>1.000000</td>\n      <td>1.930000</td>\n      <td>-73.945049</td>\n      <td>40.746754</td>\n      <td>-73.944221</td>\n      <td>40.747536</td>\n      <td>11.300000</td>\n      <td>1.0</td>\n      <td>1.0</td>\n      <td>3.0</td>\n      <td>0.0</td>\n    </tr>\n    <tr>\n      <th>75%</th>\n      <td>2.000000</td>\n      <td>1.000000</td>\n      <td>3.700000</td>\n      <td>-73.917089</td>\n      <td>40.803060</td>\n      <td>-73.909061</td>\n      <td>40.791526</td>\n      <td>17.800000</td>\n      <td>1.0</td>\n      <td>1.0</td>\n      <td>3.0</td>\n      <td>0.0</td>\n    </tr>\n    <tr>\n      <th>max</th>\n      <td>2.000000</td>\n      <td>8.000000</td>\n      <td>154.280000</td>\n      <td>0.000000</td>\n      <td>41.109089</td>\n      <td>0.000000</td>\n      <td>40.982826</td>\n      <td>425.000000</td>\n      <td>1.0</td>\n      <td>1.0</td>\n      <td>3.0</td>\n      <td>0.0</td>\n    </tr>\n  </tbody>\n</table>\n</div>"
          },
          "metadata": {}
        }
      ],
      "execution_count": 5,
      "metadata": {
        "gather": {
          "logged": 1624527361967
        }
      }
    },
    {
      "cell_type": "markdown",
      "source": [
        "From the summary statistics, you see that there are several fields that have outliers or values that will reduce model accuracy. First filter the lat/long fields to be within the bounds of the Manhattan area. This will filter out longer taxi trips or trips that are outliers in respect to their relationship with other features. \n",
        "\n",
        "Additionally filter the `tripDistance` field to be greater than zero but less than 31 miles (the haversine distance between the two lat/long pairs). This eliminates long outlier trips that have inconsistent trip cost.\n",
        "\n",
        "Lastly, the `totalAmount` field has negative values for the taxi fares, which don't make sense in the context of our model, and the `passengerCount` field has bad data with the minimum values being zero.\n",
        "\n",
        "Filter out these anomalies using query functions, and then remove the last few columns unnecessary for training."
      ],
      "metadata": {}
    },
    {
      "cell_type": "code",
      "source": [
        "final_df = green_taxi_df.query(\"pickupLatitude>=40.53 and pickupLatitude<=40.88\")\n",
        "final_df = final_df.query(\"pickupLongitude>=-74.09 and pickupLongitude<=-73.72\")\n",
        "final_df = final_df.query(\"tripDistance>=0.25 and tripDistance<31\")\n",
        "final_df = final_df.query(\"passengerCount>0 and totalAmount>0\")\n",
        "\n",
        "columns_to_remove_for_training = [\"pickupLongitude\", \"pickupLatitude\", \"dropoffLongitude\", \"dropoffLatitude\"]\n",
        "for col in columns_to_remove_for_training:\n",
        "    final_df.pop(col)"
      ],
      "outputs": [],
      "execution_count": 6,
      "metadata": {
        "gather": {
          "logged": 1624527362211
        }
      }
    },
    {
      "cell_type": "markdown",
      "source": [
        "Call `describe()` again on the data to ensure cleansing worked as expected. You now have a prepared and cleansed set of taxi, holiday, and weather data to use for machine learning model training."
      ],
      "metadata": {}
    },
    {
      "cell_type": "code",
      "source": [
        "final_df.describe()"
      ],
      "outputs": [
        {
          "output_type": "execute_result",
          "execution_count": 7,
          "data": {
            "text/plain": "           vendorID  passengerCount  tripDistance   totalAmount  month_num  \\\ncount  23222.000000    23222.000000  23222.000000  23222.000000    23222.0   \nmean       1.778572        1.374688      2.956753     14.838994        1.0   \nstd        0.415217        1.046995      2.862415     10.363600        0.0   \nmin        1.000000        1.000000      0.250000      0.010000        1.0   \n25%        2.000000        1.000000      1.100000      8.190000        1.0   \n50%        2.000000        1.000000      2.000000     11.750000        1.0   \n75%        2.000000        1.000000      3.760000     17.880000        1.0   \nmax        2.000000        8.000000     30.840000    191.700000        1.0   \n\n       day_of_month  day_of_week  hour_of_day  \ncount       23222.0      23222.0      23222.0  \nmean            1.0          3.0          0.0  \nstd             0.0          0.0          0.0  \nmin             1.0          3.0          0.0  \n25%             1.0          3.0          0.0  \n50%             1.0          3.0          0.0  \n75%             1.0          3.0          0.0  \nmax             1.0          3.0          0.0  ",
            "text/html": "<div>\n<style scoped>\n    .dataframe tbody tr th:only-of-type {\n        vertical-align: middle;\n    }\n\n    .dataframe tbody tr th {\n        vertical-align: top;\n    }\n\n    .dataframe thead th {\n        text-align: right;\n    }\n</style>\n<table border=\"1\" class=\"dataframe\">\n  <thead>\n    <tr style=\"text-align: right;\">\n      <th></th>\n      <th>vendorID</th>\n      <th>passengerCount</th>\n      <th>tripDistance</th>\n      <th>totalAmount</th>\n      <th>month_num</th>\n      <th>day_of_month</th>\n      <th>day_of_week</th>\n      <th>hour_of_day</th>\n    </tr>\n  </thead>\n  <tbody>\n    <tr>\n      <th>count</th>\n      <td>23222.000000</td>\n      <td>23222.000000</td>\n      <td>23222.000000</td>\n      <td>23222.000000</td>\n      <td>23222.0</td>\n      <td>23222.0</td>\n      <td>23222.0</td>\n      <td>23222.0</td>\n    </tr>\n    <tr>\n      <th>mean</th>\n      <td>1.778572</td>\n      <td>1.374688</td>\n      <td>2.956753</td>\n      <td>14.838994</td>\n      <td>1.0</td>\n      <td>1.0</td>\n      <td>3.0</td>\n      <td>0.0</td>\n    </tr>\n    <tr>\n      <th>std</th>\n      <td>0.415217</td>\n      <td>1.046995</td>\n      <td>2.862415</td>\n      <td>10.363600</td>\n      <td>0.0</td>\n      <td>0.0</td>\n      <td>0.0</td>\n      <td>0.0</td>\n    </tr>\n    <tr>\n      <th>min</th>\n      <td>1.000000</td>\n      <td>1.000000</td>\n      <td>0.250000</td>\n      <td>0.010000</td>\n      <td>1.0</td>\n      <td>1.0</td>\n      <td>3.0</td>\n      <td>0.0</td>\n    </tr>\n    <tr>\n      <th>25%</th>\n      <td>2.000000</td>\n      <td>1.000000</td>\n      <td>1.100000</td>\n      <td>8.190000</td>\n      <td>1.0</td>\n      <td>1.0</td>\n      <td>3.0</td>\n      <td>0.0</td>\n    </tr>\n    <tr>\n      <th>50%</th>\n      <td>2.000000</td>\n      <td>1.000000</td>\n      <td>2.000000</td>\n      <td>11.750000</td>\n      <td>1.0</td>\n      <td>1.0</td>\n      <td>3.0</td>\n      <td>0.0</td>\n    </tr>\n    <tr>\n      <th>75%</th>\n      <td>2.000000</td>\n      <td>1.000000</td>\n      <td>3.760000</td>\n      <td>17.880000</td>\n      <td>1.0</td>\n      <td>1.0</td>\n      <td>3.0</td>\n      <td>0.0</td>\n    </tr>\n    <tr>\n      <th>max</th>\n      <td>2.000000</td>\n      <td>8.000000</td>\n      <td>30.840000</td>\n      <td>191.700000</td>\n      <td>1.0</td>\n      <td>1.0</td>\n      <td>3.0</td>\n      <td>0.0</td>\n    </tr>\n  </tbody>\n</table>\n</div>"
          },
          "metadata": {}
        }
      ],
      "execution_count": 7,
      "metadata": {
        "gather": {
          "logged": 1624527362464
        }
      }
    },
    {
      "cell_type": "markdown",
      "source": [
        "## Configure workspace\n"
      ],
      "metadata": {}
    },
    {
      "cell_type": "markdown",
      "source": [
        "Create a workspace object from the existing workspace. A [Workspace](https://docs.microsoft.com/python/api/azureml-core/azureml.core.workspace.workspace?view=azure-ml-py) is a class that accepts your Azure subscription and resource information. It also creates a cloud resource to monitor and track your model runs. `Workspace.from_config()` reads the file **config.json** and loads the authentication details into an object named `ws`. `ws` is used throughout the rest of the code in this tutorial."
      ],
      "metadata": {}
    },
    {
      "cell_type": "code",
      "source": [
        "from azureml.core.workspace import Workspace\n",
        "ws = Workspace.from_config()"
      ],
      "outputs": [],
      "execution_count": 8,
      "metadata": {
        "gather": {
          "logged": 1624527362956
        }
      }
    },
    {
      "cell_type": "markdown",
      "source": [
        "## Split the data into train and test sets"
      ],
      "metadata": {}
    },
    {
      "cell_type": "markdown",
      "source": [
        "Split the data into training and test sets by using the `train_test_split` function in the `scikit-learn` library. This function segregates the data into the x (**features**) data set for model training and the y (**values to predict**) data set for testing. The `test_size` parameter determines the percentage of data to allocate to testing. The `random_state` parameter sets a seed to the random generator, so that your train-test splits are deterministic."
      ],
      "metadata": {}
    },
    {
      "cell_type": "code",
      "source": [
        "from sklearn.model_selection import train_test_split\n",
        "\n",
        "x_train, x_test = train_test_split(final_df, test_size=0.2, random_state=223)"
      ],
      "outputs": [],
      "execution_count": 9,
      "metadata": {
        "gather": {
          "logged": 1624527363362
        }
      }
    },
    {
      "cell_type": "markdown",
      "source": [
        "The purpose of this step is to have data points to test the finished model that haven't been used to train the model, in order to measure true accuracy. \n",
        "\n",
        "In other words, a well-trained model should be able to accurately make predictions from data it hasn't already seen. You now have data prepared for auto-training a machine learning model."
      ],
      "metadata": {}
    },
    {
      "cell_type": "markdown",
      "source": [
        "## Automatically train a model"
      ],
      "metadata": {}
    },
    {
      "cell_type": "markdown",
      "source": [
        "To automatically train a model, take the following steps:\n",
        "1. Define settings for the experiment run. Attach your training data to the configuration, and modify settings that control the training process.\n",
        "1. Submit the experiment for model tuning. After submitting the experiment, the process iterates through different machine learning algorithms and hyperparameter settings, adhering to your defined constraints. It chooses the best-fit model by optimizing an accuracy metric."
      ],
      "metadata": {}
    },
    {
      "cell_type": "markdown",
      "source": [
        "### Define training settings"
      ],
      "metadata": {}
    },
    {
      "cell_type": "markdown",
      "source": [
        "Define the experiment parameter and model settings for training. View the full list of [settings](https://docs.microsoft.com/azure/machine-learning/service/how-to-configure-auto-train). Submitting the experiment with these default settings will take approximately 20 minutes, but if you want a shorter run time, reduce the `experiment_timeout_hours` parameter.\n",
        "\n",
        "\n",
        "|Property| Value in this tutorial |Description|\n",
        "|----|----|---|\n",
        "|**iteration_timeout_minutes**|10|Time limit in minutes for each iteration. Increase this value for larger datasets that need more time for each iteration.|\n",
        "|**experiment_timeout_hours**|0.3|Maximum amount of time in hours that all iterations combined can take before the experiment terminates.|\n",
        "|**enable_early_stopping**|True|Flag to enable early termination if the score is not improving in the short term.|\n",
        "|**primary_metric**| spearman_correlation | Metric that you want to optimize. The best-fit model will be chosen based on this metric.|\n",
        "|**featurization**| auto | By using auto, the experiment can preprocess the input data (handling missing data, converting text to numeric, etc.)|\n",
        "|**verbosity**| logging.INFO | Controls the level of logging.|\n",
        "|**n_cross_validations**|5|Number of cross-validation splits to perform when validation data is not specified.|"
      ],
      "metadata": {}
    },
    {
      "cell_type": "code",
      "source": [
        "import logging\n",
        "\n",
        "automl_settings = {\n",
        "    \"iteration_timeout_minutes\": 10,\n",
        "    \"experiment_timeout_hours\": 0.3,\n",
        "    \"enable_early_stopping\": True,\n",
        "    \"primary_metric\": 'spearman_correlation',\n",
        "    \"featurization\": 'auto',\n",
        "    \"verbosity\": logging.INFO,\n",
        "    \"n_cross_validations\": 5\n",
        "}"
      ],
      "outputs": [],
      "execution_count": 10,
      "metadata": {
        "gather": {
          "logged": 1624527363627
        }
      }
    },
    {
      "cell_type": "markdown",
      "source": [
        "Use your defined training settings as a `**kwargs` parameter to an `AutoMLConfig` object. Additionally, specify your training data and the type of model, which is `regression` in this case."
      ],
      "metadata": {}
    },
    {
      "cell_type": "code",
      "source": [
        "from azureml.train.automl import AutoMLConfig\n",
        "\n",
        "automl_config = AutoMLConfig(task='regression',\n",
        "                             debug_log='automated_ml_errors.log',\n",
        "                             training_data=x_train,\n",
        "                             label_column_name=\"totalAmount\",\n",
        "                             **automl_settings)"
      ],
      "outputs": [],
      "execution_count": 11,
      "metadata": {
        "gather": {
          "logged": 1624527363870
        }
      }
    },
    {
      "cell_type": "markdown",
      "source": [
        "Automated machine learning pre-processing steps (feature normalization, handling missing data, converting text to numeric, etc.) become part of the underlying model. When using the model for predictions, the same pre-processing steps applied during training are applied to your input data automatically."
      ],
      "metadata": {}
    },
    {
      "cell_type": "markdown",
      "source": [
        "### Train the automatic regression model"
      ],
      "metadata": {}
    },
    {
      "cell_type": "markdown",
      "source": [
        "Create an experiment object in your workspace. An experiment acts as a container for your individual runs. Pass the defined `automl_config` object to the experiment, and set the output to `True` to view progress during the run. \n",
        "\n",
        "After starting the experiment, the output shown updates live as the experiment runs. For each iteration, you see the model type, the run duration, and the training accuracy. The field `BEST` tracks the best running training score based on your metric type."
      ],
      "metadata": {}
    },
    {
      "cell_type": "code",
      "source": [
        "from azureml.core.experiment import Experiment\n",
        "experiment = Experiment(ws, \"Tutorial-NYCTaxi-LIVE\")\n",
        "local_run = experiment.submit(automl_config, show_output=True)"
      ],
      "outputs": [
        {
          "output_type": "stream",
          "name": "stdout",
          "text": [
            "No run_configuration provided, running on local with default configuration\n",
            "Running in the active local environment.\n"
          ]
        },
        {
          "output_type": "display_data",
          "data": {
            "text/plain": "<IPython.core.display.HTML object>",
            "text/html": "<table style=\"width:100%\"><tr><th>Experiment</th><th>Id</th><th>Type</th><th>Status</th><th>Details Page</th><th>Docs Page</th></tr><tr><td>Tutorial-NYCTaxi-LIVE</td><td>AutoML_a33261b2-50c2-411d-9b5c-b721eccd4fa7</td><td>automl</td><td>Preparing</td><td><a href=\"https://ml.azure.com/runs/AutoML_a33261b2-50c2-411d-9b5c-b721eccd4fa7?wsid=/subscriptions/58caf04d-d297-4bad-a378-2bbd9e37791d/resourcegroups/ug_demo/workspaces/ug_session&amp;tid=72f988bf-86f1-41af-91ab-2d7cd011db47\" target=\"_blank\" rel=\"noopener\">Link to Azure Machine Learning studio</a></td><td><a href=\"https://docs.microsoft.com/en-us/python/api/overview/azure/ml/intro?view=azure-ml-py\" target=\"_blank\" rel=\"noopener\">Link to Documentation</a></td></tr></table>"
          },
          "metadata": {}
        },
        {
          "output_type": "stream",
          "name": "stdout",
          "text": [
            "Current status: DatasetEvaluation. Gathering dataset statistics.\n",
            "Current status: FeaturesGeneration. Generating features for the dataset.\n",
            "Current status: DatasetFeaturization. Beginning to fit featurizers and featurize the dataset.\n",
            "Current status: DatasetFeaturizationCompleted. Completed fit featurizers and featurizing the dataset.\n",
            "Current status: DatasetCrossValidationSplit. Generating individually featurized CV splits.\n",
            "\n",
            "****************************************************************************************************\n",
            "DATA GUARDRAILS: \n",
            "\n",
            "TYPE:         Missing feature values imputation\n",
            "STATUS:       PASSED\n",
            "DESCRIPTION:  No feature missing values were detected in the training data.\n",
            "              Learn more about missing value imputation: https://aka.ms/AutomatedMLFeaturization\n",
            "\n",
            "****************************************************************************************************\n",
            "\n",
            "TYPE:         High cardinality feature detection\n",
            "STATUS:       PASSED\n",
            "DESCRIPTION:  Your inputs were analyzed, and no high cardinality features were detected.\n",
            "              Learn more about high cardinality feature handling: https://aka.ms/AutomatedMLFeaturization\n",
            "\n",
            "****************************************************************************************************\n",
            "Current status: ModelSelection. Beginning model selection.\n",
            "\n",
            "****************************************************************************************************\n",
            "ITERATION: The iteration being evaluated.\n",
            "PIPELINE: A summary description of the pipeline being evaluated.\n",
            "DURATION: Time taken for the current iteration.\n",
            "METRIC: The result of computing score on the fitted pipeline.\n",
            "BEST: The best observed score thus far.\n",
            "****************************************************************************************************\n",
            "\n",
            " ITERATION   PIPELINE                                       DURATION      METRIC      BEST\n",
            "         0   MaxAbsScaler LightGBM                          0:00:29       0.9440    0.9440\n",
            "         1   MaxAbsScaler XGBoostRegressor                  0:00:29       0.9444    0.9444\n",
            "         2   MaxAbsScaler RandomForest                      0:00:31       0.9117    0.9444\n",
            "         3   StandardScalerWrapper RandomForest             0:01:28       0.9212    0.9444\n",
            "         4   SparseNormalizer XGBoostRegressor              0:00:29       0.9412    0.9444\n",
            "         5   StandardScalerWrapper XGBoostRegressor         0:00:28       0.9423    0.9444\n",
            "         6   MaxAbsScaler RandomForest                      0:00:31       0.9432    0.9444\n",
            "         7   MaxAbsScaler RandomForest                      0:00:39       0.9423    0.9444\n",
            "         8   StandardScalerWrapper ElasticNet               0:00:31       0.9448    0.9448\n",
            "         9   StandardScalerWrapper DecisionTree             0:00:25       0.9435    0.9448\n",
            "        10   StandardScalerWrapper RandomForest             0:00:31       0.9241    0.9448\n",
            "        11   MaxAbsScaler ExtremeRandomTrees                0:00:43       0.9412    0.9448\n",
            "        12   MaxAbsScaler RandomForest                      0:00:30       0.8891    0.9448\n",
            "        13   MaxAbsScaler ExtremeRandomTrees                0:00:25       0.8883    0.9448\n",
            "        14   StandardScalerWrapper XGBoostRegressor         0:00:26       0.9437    0.9448\n",
            "        15   StandardScalerWrapper XGBoostRegressor         0:00:38       0.9427    0.9448\n",
            "        16   MaxAbsScaler GradientBoosting                  0:00:55       0.9440    0.9448\n",
            "        17   MaxAbsScaler ElasticNet                        0:00:24       0.9447    0.9448\n",
            "        18   StandardScalerWrapper XGBoostRegressor         0:00:28       0.9418    0.9448\n",
            "        19   StandardScalerWrapper ExtremeRandomTrees       0:00:28       0.9009    0.9448\n",
            "        20   MaxAbsScaler RandomForest                      0:00:26       0.9403    0.9448\n",
            "        21   StandardScalerWrapper ElasticNet               0:00:25       0.9447    0.9448\n",
            "        22   MaxAbsScaler GradientBoosting                  0:00:39       0.9391    0.9448\n",
            "        23   MaxAbsScaler GradientBoosting                  0:00:29       0.9438    0.9448\n",
            "        24   StandardScalerWrapper XGBoostRegressor         0:00:26       0.9447    0.9448\n",
            "        25   TruncatedSVDWrapper ElasticNet                 0:00:24      -1.0000    0.9448\n",
            "        26   SparseNormalizer XGBoostRegressor              0:00:38       0.9403    0.9448\n",
            "        27   StandardScalerWrapper GradientBoosting         0:00:59       0.9446    0.9448\n",
            "        28   StandardScalerWrapper XGBoostRegressor         0:00:27       0.9439    0.9448\n",
            "        29   StandardScalerWrapper RandomForest             0:00:31       0.9410    0.9448\n",
            "        30   VotingEnsemble                                 0:01:08       0.9449    0.9449\n",
            "        31   StackEnsemble                                  0:01:05       0.9448    0.9449\n",
            "Stopping criteria reached at iteration 32. Ending experiment.\n",
            "****************************************************************************************************\n",
            "Current status: BestRunExplainModel. Best run model explanations started\n",
            "Current status: ModelExplanationDataSetSetup. Model explanations data setup completed\n",
            "Current status: PickSurrogateModel. Choosing LightGBM as the surrogate model for explanations\n",
            "Current status: EngineeredFeatureExplanations. Computation of engineered features started\n",
            "Current status: EngineeredFeatureExplanations. Computation of engineered features completed\n",
            "Current status: RawFeaturesExplanations. Computation of raw features started\n",
            "Current status: RawFeaturesExplanations. Computation of raw features completed\n",
            "Current status: BestRunExplainModel. Best run model explanations completed\n",
            "****************************************************************************************************\n"
          ]
        }
      ],
      "execution_count": 12,
      "metadata": {
        "gather": {
          "logged": 1624528687278
        }
      }
    },
    {
      "cell_type": "markdown",
      "source": [
        "## Explore the results"
      ],
      "metadata": {}
    },
    {
      "cell_type": "markdown",
      "source": [
        "Explore the results of automatic training with a [Jupyter widget](https://docs.microsoft.com/python/api/azureml-widgets/azureml.widgets?view=azure-ml-py). The widget allows you to see a graph and table of all individual run iterations, along with training accuracy metrics and metadata. Additionally, you can filter on different accuracy metrics than your primary metric with the dropdown selector."
      ],
      "metadata": {}
    },
    {
      "cell_type": "code",
      "source": [
        "from azureml.widgets import RunDetails\n",
        "RunDetails(local_run).show()"
      ],
      "outputs": [
        {
          "output_type": "display_data",
          "data": {
            "text/plain": "_AutoMLWidget(widget_settings={'childWidgetDisplay': 'popup', 'send_telemetry': False, 'log_level': 'INFO', 's…",
            "application/vnd.jupyter.widget-view+json": {
              "version_major": 2,
              "version_minor": 0,
              "model_id": "f63f073752c64d8ca1676f8e56e51fbc"
            }
          },
          "metadata": {}
        },
        {
          "output_type": "display_data",
          "data": {
            "application/aml.mini.widget.v1": "{\"status\": \"Completed\", \"workbench_run_details_uri\": \"https://ml.azure.com/runs/AutoML_a33261b2-50c2-411d-9b5c-b721eccd4fa7?wsid=/subscriptions/58caf04d-d297-4bad-a378-2bbd9e37791d/resourcegroups/ug_demo/workspaces/ug_session&tid=72f988bf-86f1-41af-91ab-2d7cd011db47\", \"run_id\": \"AutoML_a33261b2-50c2-411d-9b5c-b721eccd4fa7\", \"run_properties\": {\"run_id\": \"AutoML_a33261b2-50c2-411d-9b5c-b721eccd4fa7\", \"created_utc\": \"2021-06-24T09:36:07.283725Z\", \"properties\": {\"num_iterations\": \"1000\", \"training_type\": \"TrainFull\", \"acquisition_function\": \"EI\", \"primary_metric\": \"spearman_correlation\", \"train_split\": \"0\", \"acquisition_parameter\": \"0\", \"num_cross_validation\": \"5\", \"target\": \"local\", \"AMLSettingsJsonString\": \"{\\\"path\\\":null,\\\"name\\\":\\\"Tutorial-NYCTaxi-LIVE\\\",\\\"subscription_id\\\":\\\"58caf04d-d297-4bad-a378-2bbd9e37791d\\\",\\\"resource_group\\\":\\\"ug_demo\\\",\\\"workspace_name\\\":\\\"ug_session\\\",\\\"region\\\":\\\"southeastasia\\\",\\\"compute_target\\\":\\\"local\\\",\\\"spark_service\\\":null,\\\"azure_service\\\":\\\"Microsoft.AzureNotebookVM\\\",\\\"many_models\\\":false,\\\"pipeline_fetch_max_batch_size\\\":1,\\\"enable_batch_run\\\":false,\\\"enable_run_restructure\\\":false,\\\"start_auxiliary_runs_before_parent_complete\\\":false,\\\"enable_code_generation\\\":false,\\\"iterations\\\":1000,\\\"primary_metric\\\":\\\"spearman_correlation\\\",\\\"task_type\\\":\\\"regression\\\",\\\"data_script\\\":null,\\\"test_size\\\":0.0,\\\"validation_size\\\":0.0,\\\"n_cross_validations\\\":5,\\\"y_min\\\":null,\\\"y_max\\\":null,\\\"num_classes\\\":null,\\\"featurization\\\":\\\"auto\\\",\\\"_ignore_package_version_incompatibilities\\\":false,\\\"is_timeseries\\\":false,\\\"max_cores_per_iteration\\\":1,\\\"max_concurrent_iterations\\\":1,\\\"iteration_timeout_minutes\\\":10,\\\"mem_in_mb\\\":null,\\\"enforce_time_on_windows\\\":false,\\\"experiment_timeout_minutes\\\":18,\\\"experiment_exit_score\\\":null,\\\"whitelist_models\\\":null,\\\"blacklist_algos\\\":[\\\"TensorFlowDNN\\\",\\\"TensorFlowLinearRegressor\\\"],\\\"supported_models\\\":[\\\"RandomForest\\\",\\\"LightGBM\\\",\\\"LassoLars\\\",\\\"TensorFlowDNN\\\",\\\"DecisionTree\\\",\\\"ExtremeRandomTrees\\\",\\\"FastLinearRegressor\\\",\\\"XGBoostRegressor\\\",\\\"KNN\\\",\\\"GradientBoosting\\\",\\\"SGD\\\",\\\"OnlineGradientDescentRegressor\\\",\\\"ElasticNet\\\",\\\"TensorFlowLinearRegressor\\\"],\\\"private_models\\\":[],\\\"auto_blacklist\\\":true,\\\"blacklist_samples_reached\\\":false,\\\"exclude_nan_labels\\\":true,\\\"verbosity\\\":20,\\\"_debug_log\\\":\\\"automated_ml_errors.log\\\",\\\"show_warnings\\\":false,\\\"model_explainability\\\":true,\\\"service_url\\\":null,\\\"sdk_url\\\":null,\\\"sdk_packages\\\":null,\\\"enable_onnx_compatible_models\\\":false,\\\"enable_split_onnx_featurizer_estimator_models\\\":false,\\\"vm_type\\\":null,\\\"telemetry_verbosity\\\":20,\\\"send_telemetry\\\":true,\\\"enable_dnn\\\":false,\\\"scenario\\\":\\\"SDK-1.13.0\\\",\\\"environment_label\\\":null,\\\"save_mlflow\\\":false,\\\"force_text_dnn\\\":false,\\\"enable_feature_sweeping\\\":true,\\\"enable_early_stopping\\\":true,\\\"early_stopping_n_iters\\\":10,\\\"metrics\\\":null,\\\"enable_metric_confidence\\\":false,\\\"enable_ensembling\\\":true,\\\"enable_stack_ensembling\\\":true,\\\"ensemble_iterations\\\":15,\\\"enable_tf\\\":false,\\\"enable_subsampling\\\":null,\\\"subsample_seed\\\":null,\\\"enable_nimbusml\\\":false,\\\"enable_streaming\\\":false,\\\"force_streaming\\\":false,\\\"track_child_runs\\\":true,\\\"allowed_private_models\\\":[],\\\"label_column_name\\\":\\\"totalAmount\\\",\\\"weight_column_name\\\":null,\\\"cv_split_column_names\\\":null,\\\"enable_local_managed\\\":false,\\\"_local_managed_run_id\\\":null,\\\"cost_mode\\\":1,\\\"lag_length\\\":0,\\\"metric_operation\\\":\\\"maximize\\\",\\\"preprocess\\\":true}\", \"DataPrepJsonString\": null, \"EnableSubsampling\": null, \"runTemplate\": \"AutoML\", \"azureml.runsource\": \"automl\", \"display_task_type\": \"regression\", \"dependencies_versions\": \"{\\\"azureml-widgets\\\": \\\"1.30.0\\\", \\\"azureml-train\\\": \\\"1.30.0\\\", \\\"azureml-train-restclients-hyperdrive\\\": \\\"1.30.0\\\", \\\"azureml-train-core\\\": \\\"1.30.0\\\", \\\"azureml-train-automl\\\": \\\"1.30.0\\\", \\\"azureml-train-automl-runtime\\\": \\\"1.30.0\\\", \\\"azureml-train-automl-client\\\": \\\"1.30.0\\\", \\\"azureml-tensorboard\\\": \\\"1.30.0\\\", \\\"azureml-telemetry\\\": \\\"1.30.0\\\", \\\"azureml-sdk\\\": \\\"1.30.0\\\", \\\"azureml-samples\\\": \\\"0+unknown\\\", \\\"azureml-pipeline\\\": \\\"1.30.0\\\", \\\"azureml-pipeline-steps\\\": \\\"1.30.0\\\", \\\"azureml-pipeline-core\\\": \\\"1.30.0\\\", \\\"azureml-opendatasets\\\": \\\"1.30.0\\\", \\\"azureml-model-management-sdk\\\": \\\"1.0.1b6.post1\\\", \\\"azureml-mlflow\\\": \\\"1.30.0\\\", \\\"azureml-interpret\\\": \\\"1.30.0\\\", \\\"azureml-explain-model\\\": \\\"1.30.0\\\", \\\"azureml-defaults\\\": \\\"1.30.0\\\", \\\"azureml-dataset-runtime\\\": \\\"1.30.0\\\", \\\"azureml-dataprep\\\": \\\"2.15.1\\\", \\\"azureml-dataprep-rslex\\\": \\\"1.13.0\\\", \\\"azureml-dataprep-native\\\": \\\"33.0.0\\\", \\\"azureml-datadrift\\\": \\\"1.30.0\\\", \\\"azureml-core\\\": \\\"1.30.0\\\", \\\"azureml-contrib-services\\\": \\\"1.30.0\\\", \\\"azureml-contrib-server\\\": \\\"1.30.0\\\", \\\"azureml-contrib-reinforcementlearning\\\": \\\"1.30.0\\\", \\\"azureml-contrib-pipeline-steps\\\": \\\"1.30.0\\\", \\\"azureml-contrib-notebook\\\": \\\"1.30.0\\\", \\\"azureml-contrib-fairness\\\": \\\"1.30.0\\\", \\\"azureml-contrib-dataset\\\": \\\"1.30.0\\\", \\\"azureml-cli-common\\\": \\\"1.30.0\\\", \\\"azureml-automl-runtime\\\": \\\"1.30.0\\\", \\\"azureml-automl-dnn-nlp\\\": \\\"1.30.0\\\", \\\"azureml-automl-core\\\": \\\"1.30.0\\\", \\\"azureml-accel-models\\\": \\\"1.30.0\\\"}\", \"_aml_system_scenario_identification\": \"Local.Parent\", \"ClientSdkVersion\": \"1.30.0\", \"ClientType\": \"SDK\", \"environment_cpu_name\": \"AzureML-AutoML\", \"environment_cpu_label\": \"prod\", \"environment_gpu_name\": \"AzureML-AutoML-GPU\", \"environment_gpu_label\": \"prod\", \"root_attribution\": \"automl\", \"attribution\": \"AutoML\", \"Orchestrator\": \"AutoML\", \"_azureml.ComputeTargetType\": \"local\", \"ProblemInfoJsonString\": \"{\\\"dataset_num_categorical\\\": 0, \\\"is_sparse\\\": true, \\\"subsampling\\\": false, \\\"has_extra_col\\\": true, \\\"dataset_classes\\\": 995, \\\"dataset_features\\\": 19, \\\"dataset_samples\\\": 18577, \\\"single_frequency_class_detected\\\": false}\"}, \"tags\": {\"model_explain_run\": \"best_run\", \"best_score\": \"0.9448986119296798\", \"best_pipeline\": \"VotingEnsemble\", \"automl_best_child_run_id\": \"AutoML_a33261b2-50c2-411d-9b5c-b721eccd4fa7_30\", \"model_explain_best_run_child_id\": \"AutoML_a33261b2-50c2-411d-9b5c-b721eccd4fa7_30\"}, \"end_time_utc\": \"2021-06-24T09:56:53.727727Z\", \"status\": \"Completed\", \"log_files\": {}, \"log_groups\": [], \"run_duration\": \"0:20:46\", \"run_number\": \"1\", \"run_queued_details\": {\"status\": \"Completed\", \"details\": null}}, \"child_runs\": [{\"run_id\": \"AutoML_a33261b2-50c2-411d-9b5c-b721eccd4fa7_0\", \"run_number\": 2, \"metric\": null, \"status\": \"Completed\", \"run_type\": null, \"training_percent\": \"100\", \"start_time\": \"2021-06-24T09:36:44.244468Z\", \"end_time\": \"2021-06-24T09:37:13.785325Z\", \"created_time\": \"2021-06-24T09:36:44.127179Z\", \"created_time_dt\": \"2021-06-24T09:36:44.127179Z\", \"duration\": \"0:00:29\", \"iteration\": \"0\", \"goal\": \"spearman_correlation_max\", \"run_name\": \"MaxAbsScaler, LightGBM\", \"run_properties\": \"copy=True\", \"primary_metric\": 0.94402079, \"best_metric\": 0.94402079}, {\"run_id\": \"AutoML_a33261b2-50c2-411d-9b5c-b721eccd4fa7_1\", \"run_number\": 3, \"metric\": null, \"status\": \"Completed\", \"run_type\": null, \"training_percent\": \"100\", \"start_time\": \"2021-06-24T09:37:15.546446Z\", \"end_time\": \"2021-06-24T09:37:44.766421Z\", \"created_time\": \"2021-06-24T09:37:15.377542Z\", \"created_time_dt\": \"2021-06-24T09:37:15.377542Z\", \"duration\": \"0:00:29\", \"iteration\": \"1\", \"goal\": \"spearman_correlation_max\", \"run_name\": \"MaxAbsScaler, XGBoostRegressor\", \"run_properties\": \"copy=True\", \"primary_metric\": 0.9443785, \"best_metric\": 0.9443785}, {\"run_id\": \"AutoML_a33261b2-50c2-411d-9b5c-b721eccd4fa7_2\", \"run_number\": 4, \"metric\": null, \"status\": \"Completed\", \"run_type\": null, \"training_percent\": \"100\", \"start_time\": \"2021-06-24T09:37:46.752911Z\", \"end_time\": \"2021-06-24T09:38:17.966861Z\", \"created_time\": \"2021-06-24T09:37:46.434561Z\", \"created_time_dt\": \"2021-06-24T09:37:46.434561Z\", \"duration\": \"0:00:31\", \"iteration\": \"2\", \"goal\": \"spearman_correlation_max\", \"run_name\": \"MaxAbsScaler, RandomForest\", \"run_properties\": \"copy=True\", \"primary_metric\": 0.9117032, \"best_metric\": 0.9443785}, {\"run_id\": \"AutoML_a33261b2-50c2-411d-9b5c-b721eccd4fa7_3\", \"run_number\": 5, \"metric\": null, \"status\": \"Completed\", \"run_type\": null, \"training_percent\": \"100\", \"start_time\": \"2021-06-24T09:38:20.06582Z\", \"end_time\": \"2021-06-24T09:39:48.108898Z\", \"created_time\": \"2021-06-24T09:38:19.819164Z\", \"created_time_dt\": \"2021-06-24T09:38:19.819164Z\", \"duration\": \"0:01:28\", \"iteration\": \"3\", \"goal\": \"spearman_correlation_max\", \"run_name\": \"StandardScalerWrapper, RandomForest\", \"run_properties\": \"\\n    copy=True,\\n    with_mean=False,\\n    with_std=True\\n\", \"primary_metric\": 0.92115352, \"best_metric\": 0.9443785}, {\"run_id\": \"AutoML_a33261b2-50c2-411d-9b5c-b721eccd4fa7_4\", \"run_number\": 6, \"metric\": null, \"status\": \"Completed\", \"run_type\": null, \"training_percent\": \"100\", \"start_time\": \"2021-06-24T09:39:50.156001Z\", \"end_time\": \"2021-06-24T09:40:19.589164Z\", \"created_time\": \"2021-06-24T09:39:49.854535Z\", \"created_time_dt\": \"2021-06-24T09:39:49.854535Z\", \"duration\": \"0:00:29\", \"iteration\": \"4\", \"goal\": \"spearman_correlation_max\", \"run_name\": \"SparseNormalizer, XGBoostRegressor\", \"run_properties\": \"copy=True, norm='l1'\", \"primary_metric\": 0.94124479, \"best_metric\": 0.9443785}, {\"run_id\": \"AutoML_a33261b2-50c2-411d-9b5c-b721eccd4fa7_5\", \"run_number\": 7, \"metric\": null, \"status\": \"Completed\", \"run_type\": null, \"training_percent\": \"100\", \"start_time\": \"2021-06-24T09:40:21.345306Z\", \"end_time\": \"2021-06-24T09:40:49.333307Z\", \"created_time\": \"2021-06-24T09:40:21.073988Z\", \"created_time_dt\": \"2021-06-24T09:40:21.073988Z\", \"duration\": \"0:00:28\", \"iteration\": \"5\", \"goal\": \"spearman_correlation_max\", \"run_name\": \"StandardScalerWrapper, XGBoostRegressor\", \"run_properties\": \"\\n    copy=True,\\n    with_mean=False,\\n    with_std=False\\n\", \"primary_metric\": 0.94232549, \"best_metric\": 0.9443785}, {\"run_id\": \"AutoML_a33261b2-50c2-411d-9b5c-b721eccd4fa7_6\", \"run_number\": 8, \"metric\": null, \"status\": \"Completed\", \"run_type\": null, \"training_percent\": \"100\", \"start_time\": \"2021-06-24T09:40:51.222341Z\", \"end_time\": \"2021-06-24T09:41:22.466123Z\", \"created_time\": \"2021-06-24T09:40:50.933119Z\", \"created_time_dt\": \"2021-06-24T09:40:50.933119Z\", \"duration\": \"0:00:31\", \"iteration\": \"6\", \"goal\": \"spearman_correlation_max\", \"run_name\": \"MaxAbsScaler, RandomForest\", \"run_properties\": \"copy=True\", \"primary_metric\": 0.94318139, \"best_metric\": 0.9443785}, {\"run_id\": \"AutoML_a33261b2-50c2-411d-9b5c-b721eccd4fa7_7\", \"run_number\": 9, \"metric\": null, \"status\": \"Completed\", \"run_type\": null, \"training_percent\": \"100\", \"start_time\": \"2021-06-24T09:41:25.944088Z\", \"end_time\": \"2021-06-24T09:42:05.44691Z\", \"created_time\": \"2021-06-24T09:41:25.53128Z\", \"created_time_dt\": \"2021-06-24T09:41:25.53128Z\", \"duration\": \"0:00:39\", \"iteration\": \"7\", \"goal\": \"spearman_correlation_max\", \"run_name\": \"MaxAbsScaler, RandomForest\", \"run_properties\": \"copy=True\", \"primary_metric\": 0.94233081, \"best_metric\": 0.9443785}, {\"run_id\": \"AutoML_a33261b2-50c2-411d-9b5c-b721eccd4fa7_8\", \"run_number\": 10, \"metric\": null, \"status\": \"Completed\", \"run_type\": null, \"training_percent\": \"100\", \"start_time\": \"2021-06-24T09:42:07.291354Z\", \"end_time\": \"2021-06-24T09:42:38.278233Z\", \"created_time\": \"2021-06-24T09:42:06.978769Z\", \"created_time_dt\": \"2021-06-24T09:42:06.978769Z\", \"duration\": \"0:00:31\", \"iteration\": \"8\", \"goal\": \"spearman_correlation_max\", \"run_name\": \"StandardScalerWrapper, ElasticNet\", \"run_properties\": \"\\n    copy=True,\\n    with_mean=False,\\n    with_std=True\\n\", \"primary_metric\": 0.94478058, \"best_metric\": 0.94478058}, {\"run_id\": \"AutoML_a33261b2-50c2-411d-9b5c-b721eccd4fa7_9\", \"run_number\": 11, \"metric\": null, \"status\": \"Completed\", \"run_type\": null, \"training_percent\": \"100\", \"start_time\": \"2021-06-24T09:42:39.923741Z\", \"end_time\": \"2021-06-24T09:43:05.509642Z\", \"created_time\": \"2021-06-24T09:42:39.727322Z\", \"created_time_dt\": \"2021-06-24T09:42:39.727322Z\", \"duration\": \"0:00:25\", \"iteration\": \"9\", \"goal\": \"spearman_correlation_max\", \"run_name\": \"StandardScalerWrapper, DecisionTree\", \"run_properties\": \"\\n    copy=True,\\n    with_mean=False,\\n    with_std=False\\n\", \"primary_metric\": 0.94347703, \"best_metric\": 0.94478058}, {\"run_id\": \"AutoML_a33261b2-50c2-411d-9b5c-b721eccd4fa7_10\", \"run_number\": 12, \"metric\": null, \"status\": \"Completed\", \"run_type\": null, \"training_percent\": \"100\", \"start_time\": \"2021-06-24T09:43:07.136792Z\", \"end_time\": \"2021-06-24T09:43:38.101858Z\", \"created_time\": \"2021-06-24T09:43:06.98305Z\", \"created_time_dt\": \"2021-06-24T09:43:06.98305Z\", \"duration\": \"0:00:31\", \"iteration\": \"10\", \"goal\": \"spearman_correlation_max\", \"run_name\": \"StandardScalerWrapper, RandomForest\", \"run_properties\": \"\\n    copy=True,\\n    with_mean=False,\\n    with_std=True\\n\", \"primary_metric\": 0.92412664, \"best_metric\": 0.94478058}, {\"run_id\": \"AutoML_a33261b2-50c2-411d-9b5c-b721eccd4fa7_11\", \"run_number\": 13, \"metric\": null, \"status\": \"Completed\", \"run_type\": null, \"training_percent\": \"100\", \"start_time\": \"2021-06-24T09:43:39.86405Z\", \"end_time\": \"2021-06-24T09:44:23.299455Z\", \"created_time\": \"2021-06-24T09:43:39.727207Z\", \"created_time_dt\": \"2021-06-24T09:43:39.727207Z\", \"duration\": \"0:00:43\", \"iteration\": \"11\", \"goal\": \"spearman_correlation_max\", \"run_name\": \"MaxAbsScaler, ExtremeRandomTrees\", \"run_properties\": \"copy=True\", \"primary_metric\": 0.94124562, \"best_metric\": 0.94478058}, {\"run_id\": \"AutoML_a33261b2-50c2-411d-9b5c-b721eccd4fa7_12\", \"run_number\": 14, \"metric\": null, \"status\": \"Completed\", \"run_type\": null, \"training_percent\": \"100\", \"start_time\": \"2021-06-24T09:44:24.853634Z\", \"end_time\": \"2021-06-24T09:44:55.053635Z\", \"created_time\": \"2021-06-24T09:44:24.650842Z\", \"created_time_dt\": \"2021-06-24T09:44:24.650842Z\", \"duration\": \"0:00:30\", \"iteration\": \"12\", \"goal\": \"spearman_correlation_max\", \"run_name\": \"MaxAbsScaler, RandomForest\", \"run_properties\": \"copy=True\", \"primary_metric\": 0.88906589, \"best_metric\": 0.94478058}, {\"run_id\": \"AutoML_a33261b2-50c2-411d-9b5c-b721eccd4fa7_13\", \"run_number\": 15, \"metric\": null, \"status\": \"Completed\", \"run_type\": null, \"training_percent\": \"100\", \"start_time\": \"2021-06-24T09:44:56.568702Z\", \"end_time\": \"2021-06-24T09:45:21.565065Z\", \"created_time\": \"2021-06-24T09:44:56.426603Z\", \"created_time_dt\": \"2021-06-24T09:44:56.426603Z\", \"duration\": \"0:00:25\", \"iteration\": \"13\", \"goal\": \"spearman_correlation_max\", \"run_name\": \"MaxAbsScaler, ExtremeRandomTrees\", \"run_properties\": \"copy=True\", \"primary_metric\": 0.88832575, \"best_metric\": 0.94478058}, {\"run_id\": \"AutoML_a33261b2-50c2-411d-9b5c-b721eccd4fa7_14\", \"run_number\": 16, \"metric\": null, \"status\": \"Completed\", \"run_type\": null, \"training_percent\": \"100\", \"start_time\": \"2021-06-24T09:45:23.422635Z\", \"end_time\": \"2021-06-24T09:45:49.840346Z\", \"created_time\": \"2021-06-24T09:45:23.280946Z\", \"created_time_dt\": \"2021-06-24T09:45:23.280946Z\", \"duration\": \"0:00:26\", \"iteration\": \"14\", \"goal\": \"spearman_correlation_max\", \"run_name\": \"StandardScalerWrapper, XGBoostRegressor\", \"run_properties\": \"\\n    copy=True,\\n    with_mean=False,\\n    with_std=False\\n\", \"primary_metric\": 0.94372339, \"best_metric\": 0.94478058}, {\"run_id\": \"AutoML_a33261b2-50c2-411d-9b5c-b721eccd4fa7_15\", \"run_number\": 17, \"metric\": null, \"status\": \"Completed\", \"run_type\": null, \"training_percent\": \"100\", \"start_time\": \"2021-06-24T09:45:51.599223Z\", \"end_time\": \"2021-06-24T09:46:29.957738Z\", \"created_time\": \"2021-06-24T09:45:51.42261Z\", \"created_time_dt\": \"2021-06-24T09:45:51.42261Z\", \"duration\": \"0:00:38\", \"iteration\": \"15\", \"goal\": \"spearman_correlation_max\", \"run_name\": \"StandardScalerWrapper, XGBoostRegressor\", \"run_properties\": \"\\n    copy=True,\\n    with_mean=False,\\n    with_std=False\\n\", \"primary_metric\": 0.9426835, \"best_metric\": 0.94478058}, {\"run_id\": \"AutoML_a33261b2-50c2-411d-9b5c-b721eccd4fa7_16\", \"run_number\": 18, \"metric\": null, \"status\": \"Completed\", \"run_type\": null, \"training_percent\": \"100\", \"start_time\": \"2021-06-24T09:46:31.64766Z\", \"end_time\": \"2021-06-24T09:47:26.916834Z\", \"created_time\": \"2021-06-24T09:46:31.477647Z\", \"created_time_dt\": \"2021-06-24T09:46:31.477647Z\", \"duration\": \"0:00:55\", \"iteration\": \"16\", \"goal\": \"spearman_correlation_max\", \"run_name\": \"MaxAbsScaler, GradientBoosting\", \"run_properties\": \"copy=True\", \"primary_metric\": 0.94400887, \"best_metric\": 0.94478058}, {\"run_id\": \"AutoML_a33261b2-50c2-411d-9b5c-b721eccd4fa7_17\", \"run_number\": 19, \"metric\": null, \"status\": \"Completed\", \"run_type\": null, \"training_percent\": \"100\", \"start_time\": \"2021-06-24T09:47:28.482135Z\", \"end_time\": \"2021-06-24T09:47:53.263208Z\", \"created_time\": \"2021-06-24T09:47:28.316123Z\", \"created_time_dt\": \"2021-06-24T09:47:28.316123Z\", \"duration\": \"0:00:24\", \"iteration\": \"17\", \"goal\": \"spearman_correlation_max\", \"run_name\": \"MaxAbsScaler, ElasticNet\", \"run_properties\": \"copy=True\", \"primary_metric\": 0.94472331, \"best_metric\": 0.94478058}, {\"run_id\": \"AutoML_a33261b2-50c2-411d-9b5c-b721eccd4fa7_18\", \"run_number\": 20, \"metric\": null, \"status\": \"Completed\", \"run_type\": null, \"training_percent\": \"100\", \"start_time\": \"2021-06-24T09:47:55.027381Z\", \"end_time\": \"2021-06-24T09:48:23.239119Z\", \"created_time\": \"2021-06-24T09:47:54.758165Z\", \"created_time_dt\": \"2021-06-24T09:47:54.758165Z\", \"duration\": \"0:00:28\", \"iteration\": \"18\", \"goal\": \"spearman_correlation_max\", \"run_name\": \"StandardScalerWrapper, XGBoostRegressor\", \"run_properties\": \"\\n    copy=True,\\n    with_mean=False,\\n    with_std=False\\n\", \"primary_metric\": 0.94178783, \"best_metric\": 0.94478058}, {\"run_id\": \"AutoML_a33261b2-50c2-411d-9b5c-b721eccd4fa7_19\", \"run_number\": 21, \"metric\": null, \"status\": \"Completed\", \"run_type\": null, \"training_percent\": \"100\", \"start_time\": \"2021-06-24T09:48:24.886018Z\", \"end_time\": \"2021-06-24T09:48:53.137452Z\", \"created_time\": \"2021-06-24T09:48:24.744489Z\", \"created_time_dt\": \"2021-06-24T09:48:24.744489Z\", \"duration\": \"0:00:28\", \"iteration\": \"19\", \"goal\": \"spearman_correlation_max\", \"run_name\": \"StandardScalerWrapper, ExtremeRandomTrees\", \"run_properties\": \"\\n    copy=True,\\n    with_mean=False,\\n    with_std=False\\n\", \"primary_metric\": 0.90092537, \"best_metric\": 0.94478058}, {\"run_id\": \"AutoML_a33261b2-50c2-411d-9b5c-b721eccd4fa7_20\", \"run_number\": 22, \"metric\": null, \"status\": \"Completed\", \"run_type\": null, \"training_percent\": \"100\", \"start_time\": \"2021-06-24T09:48:54.832204Z\", \"end_time\": \"2021-06-24T09:49:21.585261Z\", \"created_time\": \"2021-06-24T09:48:54.65316Z\", \"created_time_dt\": \"2021-06-24T09:48:54.65316Z\", \"duration\": \"0:00:26\", \"iteration\": \"20\", \"goal\": \"spearman_correlation_max\", \"run_name\": \"MaxAbsScaler, RandomForest\", \"run_properties\": \"copy=True\", \"primary_metric\": 0.94033062, \"best_metric\": 0.94478058}, {\"run_id\": \"AutoML_a33261b2-50c2-411d-9b5c-b721eccd4fa7_21\", \"run_number\": 23, \"metric\": null, \"status\": \"Completed\", \"run_type\": null, \"training_percent\": \"100\", \"start_time\": \"2021-06-24T09:49:23.290152Z\", \"end_time\": \"2021-06-24T09:49:48.559041Z\", \"created_time\": \"2021-06-24T09:49:23.132588Z\", \"created_time_dt\": \"2021-06-24T09:49:23.132588Z\", \"duration\": \"0:00:25\", \"iteration\": \"21\", \"goal\": \"spearman_correlation_max\", \"run_name\": \"StandardScalerWrapper, ElasticNet\", \"run_properties\": \"\\n    copy=True,\\n    with_mean=False,\\n    with_std=True\\n\", \"primary_metric\": 0.9447427, \"best_metric\": 0.94478058}, {\"run_id\": \"AutoML_a33261b2-50c2-411d-9b5c-b721eccd4fa7_22\", \"run_number\": 24, \"metric\": null, \"status\": \"Completed\", \"run_type\": null, \"training_percent\": \"100\", \"start_time\": \"2021-06-24T09:49:50.005047Z\", \"end_time\": \"2021-06-24T09:50:29.676402Z\", \"created_time\": \"2021-06-24T09:49:49.8557Z\", \"created_time_dt\": \"2021-06-24T09:49:49.8557Z\", \"duration\": \"0:00:39\", \"iteration\": \"22\", \"goal\": \"spearman_correlation_max\", \"run_name\": \"MaxAbsScaler, GradientBoosting\", \"run_properties\": \"copy=True\", \"primary_metric\": 0.93909558, \"best_metric\": 0.94478058}, {\"run_id\": \"AutoML_a33261b2-50c2-411d-9b5c-b721eccd4fa7_23\", \"run_number\": 25, \"metric\": null, \"status\": \"Completed\", \"run_type\": null, \"training_percent\": \"100\", \"start_time\": \"2021-06-24T09:50:31.060067Z\", \"end_time\": \"2021-06-24T09:51:00.160372Z\", \"created_time\": \"2021-06-24T09:50:30.903249Z\", \"created_time_dt\": \"2021-06-24T09:50:30.903249Z\", \"duration\": \"0:00:29\", \"iteration\": \"23\", \"goal\": \"spearman_correlation_max\", \"run_name\": \"MaxAbsScaler, GradientBoosting\", \"run_properties\": \"copy=True\", \"primary_metric\": 0.94384797, \"best_metric\": 0.94478058}, {\"run_id\": \"AutoML_a33261b2-50c2-411d-9b5c-b721eccd4fa7_24\", \"run_number\": 26, \"metric\": null, \"status\": \"Completed\", \"run_type\": null, \"training_percent\": \"100\", \"start_time\": \"2021-06-24T09:51:01.610877Z\", \"end_time\": \"2021-06-24T09:51:28.27733Z\", \"created_time\": \"2021-06-24T09:51:01.463777Z\", \"created_time_dt\": \"2021-06-24T09:51:01.463777Z\", \"duration\": \"0:00:26\", \"iteration\": \"24\", \"goal\": \"spearman_correlation_max\", \"run_name\": \"StandardScalerWrapper, XGBoostRegressor\", \"run_properties\": \"\\n    copy=True,\\n    with_mean=False,\\n    with_std=False\\n\", \"primary_metric\": 0.94466964, \"best_metric\": 0.94478058}, {\"run_id\": \"AutoML_a33261b2-50c2-411d-9b5c-b721eccd4fa7_25\", \"run_number\": 27, \"metric\": null, \"status\": \"Completed\", \"run_type\": null, \"training_percent\": \"100\", \"start_time\": \"2021-06-24T09:51:30.768854Z\", \"end_time\": \"2021-06-24T09:51:55.019588Z\", \"created_time\": \"2021-06-24T09:51:30.626513Z\", \"created_time_dt\": \"2021-06-24T09:51:30.626513Z\", \"duration\": \"0:00:24\", \"iteration\": \"25\", \"goal\": \"spearman_correlation_max\", \"run_name\": \"TruncatedSVDWrapper, ElasticNet\", \"run_properties\": \"n_components=0.6531578947368422, random_state=None\", \"primary_metric\": -1.0, \"best_metric\": 0.94478058}, {\"run_id\": \"AutoML_a33261b2-50c2-411d-9b5c-b721eccd4fa7_26\", \"run_number\": 28, \"metric\": null, \"status\": \"Completed\", \"run_type\": null, \"training_percent\": \"100\", \"start_time\": \"2021-06-24T09:51:56.42361Z\", \"end_time\": \"2021-06-24T09:52:34.801484Z\", \"created_time\": \"2021-06-24T09:51:56.277901Z\", \"created_time_dt\": \"2021-06-24T09:51:56.277901Z\", \"duration\": \"0:00:38\", \"iteration\": \"26\", \"goal\": \"spearman_correlation_max\", \"run_name\": \"SparseNormalizer, XGBoostRegressor\", \"run_properties\": \"copy=True, norm='max'\", \"primary_metric\": 0.94030308, \"best_metric\": 0.94478058}, {\"run_id\": \"AutoML_a33261b2-50c2-411d-9b5c-b721eccd4fa7_27\", \"run_number\": 29, \"metric\": null, \"status\": \"Completed\", \"run_type\": null, \"training_percent\": \"100\", \"start_time\": \"2021-06-24T09:52:36.523943Z\", \"end_time\": \"2021-06-24T09:53:35.445038Z\", \"created_time\": \"2021-06-24T09:52:36.328972Z\", \"created_time_dt\": \"2021-06-24T09:52:36.328972Z\", \"duration\": \"0:00:59\", \"iteration\": \"27\", \"goal\": \"spearman_correlation_max\", \"run_name\": \"StandardScalerWrapper, GradientBoosting\", \"run_properties\": \"\\n    copy=True,\\n    with_mean=False,\\n    with_std=False\\n\", \"primary_metric\": 0.94457901, \"best_metric\": 0.94478058}, {\"run_id\": \"AutoML_a33261b2-50c2-411d-9b5c-b721eccd4fa7_28\", \"run_number\": 30, \"metric\": null, \"status\": \"Completed\", \"run_type\": null, \"training_percent\": \"100\", \"start_time\": \"2021-06-24T09:53:37.000745Z\", \"end_time\": \"2021-06-24T09:54:04.202358Z\", \"created_time\": \"2021-06-24T09:53:36.837328Z\", \"created_time_dt\": \"2021-06-24T09:53:36.837328Z\", \"duration\": \"0:00:27\", \"iteration\": \"28\", \"goal\": \"spearman_correlation_max\", \"run_name\": \"StandardScalerWrapper, XGBoostRegressor\", \"run_properties\": \"\\n    copy=True,\\n    with_mean=False,\\n    with_std=False\\n\", \"primary_metric\": 0.94392612, \"best_metric\": 0.94478058}, {\"run_id\": \"AutoML_a33261b2-50c2-411d-9b5c-b721eccd4fa7_29\", \"run_number\": 31, \"metric\": null, \"status\": \"Completed\", \"run_type\": null, \"training_percent\": \"100\", \"start_time\": \"2021-06-24T09:54:05.961501Z\", \"end_time\": \"2021-06-24T09:54:37.025336Z\", \"created_time\": \"2021-06-24T09:54:05.824486Z\", \"created_time_dt\": \"2021-06-24T09:54:05.824486Z\", \"duration\": \"0:00:31\", \"iteration\": \"29\", \"goal\": \"spearman_correlation_max\", \"run_name\": \"StandardScalerWrapper, RandomForest\", \"run_properties\": \"\\n    copy=True,\\n    with_mean=False,\\n    with_std=False\\n\", \"primary_metric\": 0.94096518, \"best_metric\": 0.94478058}, {\"run_id\": \"AutoML_a33261b2-50c2-411d-9b5c-b721eccd4fa7_30\", \"run_number\": 32, \"metric\": null, \"status\": \"Completed\", \"run_type\": null, \"training_percent\": \"100\", \"start_time\": \"2021-06-24T09:54:37.714171Z\", \"end_time\": \"2021-06-24T09:55:45.846758Z\", \"created_time\": \"2021-06-24T09:54:37.578112Z\", \"created_time_dt\": \"2021-06-24T09:54:37.578112Z\", \"duration\": \"0:01:08\", \"iteration\": \"30\", \"goal\": \"spearman_correlation_max\", \"run_name\": \"VotingEnsemble\", \"run_properties\": \"\\n    estimators=[('8', Pipeline(memory=None,\\n             steps=[('standardscalerwrapper',\\n                     StandardScalerWrapper(\\n        copy=True,\\n        with_mean=False,\\n        with_std=True\\n    \", \"primary_metric\": 0.94489861, \"best_metric\": 0.94489861}, {\"run_id\": \"AutoML_a33261b2-50c2-411d-9b5c-b721eccd4fa7_31\", \"run_number\": 33, \"metric\": null, \"status\": \"Completed\", \"run_type\": null, \"training_percent\": \"100\", \"start_time\": \"2021-06-24T09:55:46.277244Z\", \"end_time\": \"2021-06-24T09:56:51.91331Z\", \"created_time\": \"2021-06-24T09:55:46.128248Z\", \"created_time_dt\": \"2021-06-24T09:55:46.128248Z\", \"duration\": \"0:01:05\", \"iteration\": \"31\", \"goal\": \"spearman_correlation_max\", \"run_name\": \"StackEnsemble\", \"run_properties\": \"\\n    base_learners=[('8', Pipeline(memory=None,\\n             steps=[('standardscalerwrapper',\\n                     StandardScalerWrapper(\\n        copy=True,\\n        with_mean=False,\\n        with_std=True\\n    \", \"primary_metric\": 0.94484353, \"best_metric\": 0.94489861}], \"children_metrics\": {\"categories\": [0], \"series\": {\"mean_absolute_percentage_error\": [{\"categories\": [\"0\", \"1\", \"2\", \"3\", \"4\", \"5\", \"6\", \"7\", \"8\", \"9\", \"10\", \"11\", \"12\", \"13\", \"14\", \"15\", \"16\", \"17\", \"18\", \"19\", \"20\", \"21\", \"22\", \"23\", \"24\", \"25\", \"26\", \"27\", \"28\", \"29\", \"30\", \"31\"], \"mode\": \"markers\", \"name\": \"mean_absolute_percentage_error\", \"stepped\": false, \"type\": \"scatter\", \"data\": [73.37253665754619, 77.33369176453748, 62.018289596372234, 60.20405932366092, 69.66851211774949, 65.13919345118538, 63.97560273883393, 68.98491675332761, 74.22619301286488, 61.048115401938716, 61.38945531959915, 61.846071799383914, 59.28824525769626, 64.0436634591438, 67.4499695344562, 79.28816231021148, 51.36108778191239, 74.63942501380677, 68.74764097264531, 63.795614012333864, 50.52368140476289, 73.91836026093375, 44.36771050278044, 46.71485559853947, 85.2658005681684, 76.96193898508274, 74.48935078473997, 60.575011985817085, 62.885891014856306, 50.885902896570556, 74.08230593596997, 73.49118932593692]}, {\"categories\": [\"0\", \"1\", \"2\", \"3\", \"4\", \"5\", \"6\", \"7\", \"8\", \"9\", \"10\", \"11\", \"12\", \"13\", \"14\", \"15\", \"16\", \"17\", \"18\", \"19\", \"20\", \"21\", \"22\", \"23\", \"24\", \"25\", \"26\", \"27\", \"28\", \"29\", \"30\", \"31\"], \"mode\": \"lines\", \"name\": \"mean_absolute_percentage_error_min\", \"stepped\": true, \"type\": \"scatter\", \"data\": [73.37253665754619, 73.37253665754619, 62.018289596372234, 60.20405932366092, 60.20405932366092, 60.20405932366092, 60.20405932366092, 60.20405932366092, 60.20405932366092, 60.20405932366092, 60.20405932366092, 60.20405932366092, 59.28824525769626, 59.28824525769626, 59.28824525769626, 59.28824525769626, 51.36108778191239, 51.36108778191239, 51.36108778191239, 51.36108778191239, 50.52368140476289, 50.52368140476289, 44.36771050278044, 44.36771050278044, 44.36771050278044, 44.36771050278044, 44.36771050278044, 44.36771050278044, 44.36771050278044, 44.36771050278044, 44.36771050278044, 44.36771050278044]}], \"median_absolute_error\": [{\"categories\": [\"0\", \"1\", \"2\", \"3\", \"4\", \"5\", \"6\", \"7\", \"8\", \"9\", \"10\", \"11\", \"12\", \"13\", \"14\", \"15\", \"16\", \"17\", \"18\", \"19\", \"20\", \"21\", \"22\", \"23\", \"24\", \"25\", \"26\", \"27\", \"28\", \"29\", \"30\", \"31\"], \"mode\": \"markers\", \"name\": \"median_absolute_error\", \"stepped\": false, \"type\": \"scatter\", \"data\": [1.3038495325382962, 1.298190818786621, 1.9852728846237988, 2.0463104179522333, 1.3298015060424804, 1.250746801376343, 1.3126092337004842, 1.301162334215325, 1.4371784100946279, 1.3081535312663521, 1.9513230028557593, 1.3474241276303753, 2.2631757390020297, 3.508114696823853, 1.2806827468872075, 1.2963562011718748, 1.2860065487493337, 1.3890057969891885, 1.4709572372436521, 2.6251264390785245, 1.417915343681399, 1.4865060933196268, 1.342694963821343, 1.3179485367953179, 1.2909500694274902, 6.0742311270552705, 1.3007879791259767, 1.204367572709544, 1.1841036682128907, 1.356947902531767, 1.2791541666991224, 1.343937534024724]}, {\"categories\": [\"0\", \"1\", \"2\", \"3\", \"4\", \"5\", \"6\", \"7\", \"8\", \"9\", \"10\", \"11\", \"12\", \"13\", \"14\", \"15\", \"16\", \"17\", \"18\", \"19\", \"20\", \"21\", \"22\", \"23\", \"24\", \"25\", \"26\", \"27\", \"28\", \"29\", \"30\", \"31\"], \"mode\": \"lines\", \"name\": \"median_absolute_error_min\", \"stepped\": true, \"type\": \"scatter\", \"data\": [1.3038495325382962, 1.298190818786621, 1.298190818786621, 1.298190818786621, 1.298190818786621, 1.250746801376343, 1.250746801376343, 1.250746801376343, 1.250746801376343, 1.250746801376343, 1.250746801376343, 1.250746801376343, 1.250746801376343, 1.250746801376343, 1.250746801376343, 1.250746801376343, 1.250746801376343, 1.250746801376343, 1.250746801376343, 1.250746801376343, 1.250746801376343, 1.250746801376343, 1.250746801376343, 1.250746801376343, 1.250746801376343, 1.250746801376343, 1.250746801376343, 1.204367572709544, 1.1841036682128907, 1.1841036682128907, 1.1841036682128907, 1.1841036682128907]}], \"mean_absolute_error\": [{\"categories\": [\"0\", \"1\", \"2\", \"3\", \"4\", \"5\", \"6\", \"7\", \"8\", \"9\", \"10\", \"11\", \"12\", \"13\", \"14\", \"15\", \"16\", \"17\", \"18\", \"19\", \"20\", \"21\", \"22\", \"23\", \"24\", \"25\", \"26\", \"27\", \"28\", \"29\", \"30\", \"31\"], \"mode\": \"markers\", \"name\": \"mean_absolute_error\", \"stepped\": false, \"type\": \"scatter\", \"data\": [2.1378018408066333, 2.0946273438152687, 2.8765870983399053, 2.9109450829749948, 2.179223851373928, 2.217680962121599, 2.1404706947566168, 2.1291000749190565, 2.1373195525824684, 2.1343457034889566, 2.797964344013421, 2.1503469155683703, 3.306616202892532, 4.527719847465029, 2.181390595277486, 2.143943870523734, 2.2025869730976098, 2.1180841333410796, 2.4643791926678285, 3.5152342020789513, 2.5358298253509304, 2.15570867004535, 2.608712556219129, 2.41345808213416, 2.1040806621931267, 7.254827606145696, 2.217787026920184, 2.071861527842138, 2.142086829716655, 2.40570622252183, 2.074051634977104, 2.0973527621343493]}, {\"categories\": [\"0\", \"1\", \"2\", \"3\", \"4\", \"5\", \"6\", \"7\", \"8\", \"9\", \"10\", \"11\", \"12\", \"13\", \"14\", \"15\", \"16\", \"17\", \"18\", \"19\", \"20\", \"21\", \"22\", \"23\", \"24\", \"25\", \"26\", \"27\", \"28\", \"29\", \"30\", \"31\"], \"mode\": \"lines\", \"name\": \"mean_absolute_error_min\", \"stepped\": true, \"type\": \"scatter\", \"data\": [2.1378018408066333, 2.0946273438152687, 2.0946273438152687, 2.0946273438152687, 2.0946273438152687, 2.0946273438152687, 2.0946273438152687, 2.0946273438152687, 2.0946273438152687, 2.0946273438152687, 2.0946273438152687, 2.0946273438152687, 2.0946273438152687, 2.0946273438152687, 2.0946273438152687, 2.0946273438152687, 2.0946273438152687, 2.0946273438152687, 2.0946273438152687, 2.0946273438152687, 2.0946273438152687, 2.0946273438152687, 2.0946273438152687, 2.0946273438152687, 2.0946273438152687, 2.0946273438152687, 2.0946273438152687, 2.071861527842138, 2.071861527842138, 2.071861527842138, 2.071861527842138, 2.071861527842138]}], \"normalized_mean_absolute_error\": [{\"categories\": [\"0\", \"1\", \"2\", \"3\", \"4\", \"5\", \"6\", \"7\", \"8\", \"9\", \"10\", \"11\", \"12\", \"13\", \"14\", \"15\", \"16\", \"17\", \"18\", \"19\", \"20\", \"21\", \"22\", \"23\", \"24\", \"25\", \"26\", \"27\", \"28\", \"29\", \"30\", \"31\"], \"mode\": \"markers\", \"name\": \"normalized_mean_absolute_error\", \"stepped\": false, \"type\": \"scatter\", \"data\": [0.011152391052254334, 0.010927160226486873, 0.015006453640460668, 0.015185690870546168, 0.011368479583566843, 0.01156910095530074, 0.011166313812700803, 0.01110699606092679, 0.011149875072160616, 0.011134361226401778, 0.01459629789771726, 0.011217835649060306, 0.017249810646838816, 0.02362001068112593, 0.011379782958305005, 0.011184432523990479, 0.011490359294160415, 0.011049528579169908, 0.012856065484207983, 0.01833811989190334, 0.013228806016750642, 0.011245806615083467, 0.013609017456409458, 0.012590422464052165, 0.010976475883943486, 0.037846667046511004, 0.011569654269498584, 0.01080839651438332, 0.011174744794807527, 0.01254998290219537, 0.010819821769404268, 0.010941378069457712]}, {\"categories\": [\"0\", \"1\", \"2\", \"3\", \"4\", \"5\", \"6\", \"7\", \"8\", \"9\", \"10\", \"11\", \"12\", \"13\", \"14\", \"15\", \"16\", \"17\", \"18\", \"19\", \"20\", \"21\", \"22\", \"23\", \"24\", \"25\", \"26\", \"27\", \"28\", \"29\", \"30\", \"31\"], \"mode\": \"lines\", \"name\": \"normalized_mean_absolute_error_min\", \"stepped\": true, \"type\": \"scatter\", \"data\": [0.011152391052254334, 0.010927160226486873, 0.010927160226486873, 0.010927160226486873, 0.010927160226486873, 0.010927160226486873, 0.010927160226486873, 0.010927160226486873, 0.010927160226486873, 0.010927160226486873, 0.010927160226486873, 0.010927160226486873, 0.010927160226486873, 0.010927160226486873, 0.010927160226486873, 0.010927160226486873, 0.010927160226486873, 0.010927160226486873, 0.010927160226486873, 0.010927160226486873, 0.010927160226486873, 0.010927160226486873, 0.010927160226486873, 0.010927160226486873, 0.010927160226486873, 0.010927160226486873, 0.010927160226486873, 0.01080839651438332, 0.01080839651438332, 0.01080839651438332, 0.01080839651438332, 0.01080839651438332]}], \"normalized_root_mean_squared_error\": [{\"categories\": [\"0\", \"1\", \"2\", \"3\", \"4\", \"5\", \"6\", \"7\", \"8\", \"9\", \"10\", \"11\", \"12\", \"13\", \"14\", \"15\", \"16\", \"17\", \"18\", \"19\", \"20\", \"21\", \"22\", \"23\", \"24\", \"25\", \"26\", \"27\", \"28\", \"29\", \"30\", \"31\"], \"mode\": \"markers\", \"name\": \"normalized_root_mean_squared_error\", \"stepped\": false, \"type\": \"scatter\", \"data\": [0.020908257625575306, 0.020603417634746466, 0.02694603637401403, 0.027236843236588627, 0.021259796787324377, 0.022641603586709035, 0.020897850695868216, 0.02050435890708278, 0.020157427179368404, 0.021006545618609866, 0.02619924573679363, 0.020985529620337378, 0.03019990867960808, 0.03723321025539403, 0.021727996098568948, 0.021659809149460568, 0.02313388967976974, 0.02012264770979389, 0.02450002741159606, 0.029588281863891546, 0.026361300448810337, 0.020211509789521985, 0.030014940410721357, 0.026699510512355352, 0.02082905824864933, 0.0542890351897522, 0.022617800360044592, 0.020901708566849524, 0.021621175835038142, 0.024710300008935943, 0.02040025502979285, 0.020104782001379686]}, {\"categories\": [\"0\", \"1\", \"2\", \"3\", \"4\", \"5\", \"6\", \"7\", \"8\", \"9\", \"10\", \"11\", \"12\", \"13\", \"14\", \"15\", \"16\", \"17\", \"18\", \"19\", \"20\", \"21\", \"22\", \"23\", \"24\", \"25\", \"26\", \"27\", \"28\", \"29\", \"30\", \"31\"], \"mode\": \"lines\", \"name\": \"normalized_root_mean_squared_error_min\", \"stepped\": true, \"type\": \"scatter\", \"data\": [0.020908257625575306, 0.020603417634746466, 0.020603417634746466, 0.020603417634746466, 0.020603417634746466, 0.020603417634746466, 0.020603417634746466, 0.02050435890708278, 0.020157427179368404, 0.020157427179368404, 0.020157427179368404, 0.020157427179368404, 0.020157427179368404, 0.020157427179368404, 0.020157427179368404, 0.020157427179368404, 0.020157427179368404, 0.02012264770979389, 0.02012264770979389, 0.02012264770979389, 0.02012264770979389, 0.02012264770979389, 0.02012264770979389, 0.02012264770979389, 0.02012264770979389, 0.02012264770979389, 0.02012264770979389, 0.02012264770979389, 0.02012264770979389, 0.02012264770979389, 0.02012264770979389, 0.020104782001379686]}], \"root_mean_squared_log_error\": [{\"categories\": [\"0\", \"1\", \"2\", \"3\", \"4\", \"5\", \"6\", \"7\", \"8\", \"9\", \"10\", \"11\", \"12\", \"13\", \"14\", \"15\", \"16\", \"17\", \"18\", \"19\", \"20\", \"21\", \"22\", \"23\", \"24\", \"25\", \"26\", \"27\", \"28\", \"29\", \"30\", \"31\"], \"mode\": \"markers\", \"name\": \"root_mean_squared_log_error\", \"stepped\": false, \"type\": \"scatter\", \"data\": [0.17666370565139772, 0.17556005819385484, 0.2422299384967268, 0.2429008383789431, 0.17942615658858316, 0.18507378684517037, 0.1769840652073102, 0.1774581057680622, 0.18115436550272618, 0.17654047949150853, 0.23392417718026834, 0.17899420480592151, 0.27153170330939297, 0.3576155871894264, 0.18586766334021007, 0.17883649992321665, 0.17811269874983057, 0.17867793339266014, 0.19887543519093254, 0.2891320314664755, 0.19530719506351538, 0.18334463769479542, 0.20436171236147324, 0.18743470986561894, 0.17558381873439408, 0.5455858508668139, 0.18346630366145505, 0.17448592194717388, 0.18172135658615654, 0.18684222500534667, 0.17499440572063266, 0.17632759770423925]}, {\"categories\": [\"0\", \"1\", \"2\", \"3\", \"4\", \"5\", \"6\", \"7\", \"8\", \"9\", \"10\", \"11\", \"12\", \"13\", \"14\", \"15\", \"16\", \"17\", \"18\", \"19\", \"20\", \"21\", \"22\", \"23\", \"24\", \"25\", \"26\", \"27\", \"28\", \"29\", \"30\", \"31\"], \"mode\": \"lines\", \"name\": \"root_mean_squared_log_error_min\", \"stepped\": true, \"type\": \"scatter\", \"data\": [0.17666370565139772, 0.17556005819385484, 0.17556005819385484, 0.17556005819385484, 0.17556005819385484, 0.17556005819385484, 0.17556005819385484, 0.17556005819385484, 0.17556005819385484, 0.17556005819385484, 0.17556005819385484, 0.17556005819385484, 0.17556005819385484, 0.17556005819385484, 0.17556005819385484, 0.17556005819385484, 0.17556005819385484, 0.17556005819385484, 0.17556005819385484, 0.17556005819385484, 0.17556005819385484, 0.17556005819385484, 0.17556005819385484, 0.17556005819385484, 0.17556005819385484, 0.17556005819385484, 0.17556005819385484, 0.17448592194717388, 0.17448592194717388, 0.17448592194717388, 0.17448592194717388, 0.17448592194717388]}], \"explained_variance\": [{\"categories\": [\"0\", \"1\", \"2\", \"3\", \"4\", \"5\", \"6\", \"7\", \"8\", \"9\", \"10\", \"11\", \"12\", \"13\", \"14\", \"15\", \"16\", \"17\", \"18\", \"19\", \"20\", \"21\", \"22\", \"23\", \"24\", \"25\", \"26\", \"27\", \"28\", \"29\", \"30\", \"31\"], \"mode\": \"markers\", \"name\": \"explained_variance\", \"stepped\": false, \"type\": \"scatter\", \"data\": [0.8513584153351401, 0.8553113733886519, 0.7532211402929063, 0.7483059425268156, 0.8463280093950575, 0.8364594321792218, 0.8515482546185711, 0.8570718302902745, 0.8615847119143328, 0.8500519540981234, 0.7668919996383823, 0.8503610495972229, 0.6905039513801906, 0.5295307836402209, 0.8494869093508838, 0.8402588674770906, 0.819446096129675, 0.8620190800343593, 0.8067395445161726, 0.7009599160328659, 0.7639488005928633, 0.860874667789471, 0.7072445011411708, 0.7602016029844043, 0.8522447858349457, -4.4408920985006264e-17, 0.8257570777334807, 0.8536028256958641, 0.852011594000604, 0.792796207405921, 0.8588664859861798, 0.8623585693564693]}, {\"categories\": [\"0\", \"1\", \"2\", \"3\", \"4\", \"5\", \"6\", \"7\", \"8\", \"9\", \"10\", \"11\", \"12\", \"13\", \"14\", \"15\", \"16\", \"17\", \"18\", \"19\", \"20\", \"21\", \"22\", \"23\", \"24\", \"25\", \"26\", \"27\", \"28\", \"29\", \"30\", \"31\"], \"mode\": \"lines\", \"name\": \"explained_variance_max\", \"stepped\": true, \"type\": \"scatter\", \"data\": [0.8513584153351401, 0.8553113733886519, 0.8553113733886519, 0.8553113733886519, 0.8553113733886519, 0.8553113733886519, 0.8553113733886519, 0.8570718302902745, 0.8615847119143328, 0.8615847119143328, 0.8615847119143328, 0.8615847119143328, 0.8615847119143328, 0.8615847119143328, 0.8615847119143328, 0.8615847119143328, 0.8615847119143328, 0.8620190800343593, 0.8620190800343593, 0.8620190800343593, 0.8620190800343593, 0.8620190800343593, 0.8620190800343593, 0.8620190800343593, 0.8620190800343593, 0.8620190800343593, 0.8620190800343593, 0.8620190800343593, 0.8620190800343593, 0.8620190800343593, 0.8620190800343593, 0.8623585693564693]}], \"normalized_median_absolute_error\": [{\"categories\": [\"0\", \"1\", \"2\", \"3\", \"4\", \"5\", \"6\", \"7\", \"8\", \"9\", \"10\", \"11\", \"12\", \"13\", \"14\", \"15\", \"16\", \"17\", \"18\", \"19\", \"20\", \"21\", \"22\", \"23\", \"24\", \"25\", \"26\", \"27\", \"28\", \"29\", \"30\", \"31\"], \"mode\": \"markers\", \"name\": \"normalized_median_absolute_error\", \"stepped\": false, \"type\": \"scatter\", \"data\": [0.006801865160093361, 0.006772345029926553, 0.010356684671207672, 0.010675102602912167, 0.006937250279318068, 0.006524841156953116, 0.006847562385625146, 0.006787846701524988, 0.007497409411521873, 0.0068243180722330436, 0.010179576414292657, 0.007029183200116726, 0.011806436115613906, 0.018300979168573494, 0.006681009686927891, 0.006762774277071703, 0.006708782663411414, 0.007246104632423122, 0.007673625318189015, 0.013694644681926677, 0.007396918689975475, 0.007754739909852505, 0.007004512305395914, 0.006875416228260827, 0.006734571805662738, 0.031687783019746826, 0.006785893782283774, 0.006282892027281257, 0.006177180177436959, 0.007078866412080792, 0.006673035456722429, 0.007010994491234409]}, {\"categories\": [\"0\", \"1\", \"2\", \"3\", \"4\", \"5\", \"6\", \"7\", \"8\", \"9\", \"10\", \"11\", \"12\", \"13\", \"14\", \"15\", \"16\", \"17\", \"18\", \"19\", \"20\", \"21\", \"22\", \"23\", \"24\", \"25\", \"26\", \"27\", \"28\", \"29\", \"30\", \"31\"], \"mode\": \"lines\", \"name\": \"normalized_median_absolute_error_min\", \"stepped\": true, \"type\": \"scatter\", \"data\": [0.006801865160093361, 0.006772345029926553, 0.006772345029926553, 0.006772345029926553, 0.006772345029926553, 0.006524841156953116, 0.006524841156953116, 0.006524841156953116, 0.006524841156953116, 0.006524841156953116, 0.006524841156953116, 0.006524841156953116, 0.006524841156953116, 0.006524841156953116, 0.006524841156953116, 0.006524841156953116, 0.006524841156953116, 0.006524841156953116, 0.006524841156953116, 0.006524841156953116, 0.006524841156953116, 0.006524841156953116, 0.006524841156953116, 0.006524841156953116, 0.006524841156953116, 0.006524841156953116, 0.006524841156953116, 0.006282892027281257, 0.006177180177436959, 0.006177180177436959, 0.006177180177436959, 0.006177180177436959]}], \"normalized_root_mean_squared_log_error\": [{\"categories\": [\"0\", \"1\", \"2\", \"3\", \"4\", \"5\", \"6\", \"7\", \"8\", \"9\", \"10\", \"11\", \"12\", \"13\", \"14\", \"15\", \"16\", \"17\", \"18\", \"19\", \"20\", \"21\", \"22\", \"23\", \"24\", \"25\", \"26\", \"27\", \"28\", \"29\", \"30\", \"31\"], \"mode\": \"markers\", \"name\": \"normalized_root_mean_squared_log_error\", \"stepped\": false, \"type\": \"scatter\", \"data\": [0.033642640864138984, 0.03343246970918766, 0.04612863065075971, 0.046256392285272986, 0.034168703330913694, 0.03524419982723835, 0.033703647970534836, 0.0337939210477445, 0.034497811744112296, 0.0336191745079515, 0.04454693765930705, 0.03408644535584673, 0.05170866049697613, 0.06810189293194455, 0.03539538029588426, 0.03405641310495627, 0.033918577306462826, 0.03402621676767853, 0.03787249236144933, 0.05506034791401766, 0.03719298085295315, 0.034914912361813016, 0.03891726186772151, 0.03569379803413638, 0.03343699450577309, 0.10389767821063871, 0.03493808160535756, 0.03322791846957114, 0.0346057856899926, 0.0355809692258756, 0.03332475067917888, 0.033578634740661945]}, {\"categories\": [\"0\", \"1\", \"2\", \"3\", \"4\", \"5\", \"6\", \"7\", \"8\", \"9\", \"10\", \"11\", \"12\", \"13\", \"14\", \"15\", \"16\", \"17\", \"18\", \"19\", \"20\", \"21\", \"22\", \"23\", \"24\", \"25\", \"26\", \"27\", \"28\", \"29\", \"30\", \"31\"], \"mode\": \"lines\", \"name\": \"normalized_root_mean_squared_log_error_min\", \"stepped\": true, \"type\": \"scatter\", \"data\": [0.033642640864138984, 0.03343246970918766, 0.03343246970918766, 0.03343246970918766, 0.03343246970918766, 0.03343246970918766, 0.03343246970918766, 0.03343246970918766, 0.03343246970918766, 0.03343246970918766, 0.03343246970918766, 0.03343246970918766, 0.03343246970918766, 0.03343246970918766, 0.03343246970918766, 0.03343246970918766, 0.03343246970918766, 0.03343246970918766, 0.03343246970918766, 0.03343246970918766, 0.03343246970918766, 0.03343246970918766, 0.03343246970918766, 0.03343246970918766, 0.03343246970918766, 0.03343246970918766, 0.03343246970918766, 0.03322791846957114, 0.03322791846957114, 0.03322791846957114, 0.03322791846957114, 0.03322791846957114]}], \"root_mean_squared_error\": [{\"categories\": [\"0\", \"1\", \"2\", \"3\", \"4\", \"5\", \"6\", \"7\", \"8\", \"9\", \"10\", \"11\", \"12\", \"13\", \"14\", \"15\", \"16\", \"17\", \"18\", \"19\", \"20\", \"21\", \"22\", \"23\", \"24\", \"25\", \"26\", \"27\", \"28\", \"29\", \"30\", \"31\"], \"mode\": \"markers\", \"name\": \"root_mean_squared_error\", \"stepped\": false, \"type\": \"scatter\", \"data\": [4.00790390424653, 3.94946912640455, 5.16528571253475, 5.221030480021674, 4.075290446162209, 4.340168991536254, 4.005908999890979, 3.930480558898698, 3.8639772160131285, 4.026744729631325, 5.02213341528597, 4.022716172922473, 5.789020494794072, 7.137234073856481, 4.165039572134681, 4.151968815860097, 4.434535312715062, 3.857310339490391, 4.696410254528848, 5.671777750489371, 5.053197683032454, 3.874344311553469, 5.753563927331177, 5.118029170113398, 3.9927221756835904, 10.406665155523601, 4.335606151016949, 4.006648515179386, 4.144563195818462, 4.736717408712931, 3.910524886660992, 3.8538856618444726]}, {\"categories\": [\"0\", \"1\", \"2\", \"3\", \"4\", \"5\", \"6\", \"7\", \"8\", \"9\", \"10\", \"11\", \"12\", \"13\", \"14\", \"15\", \"16\", \"17\", \"18\", \"19\", \"20\", \"21\", \"22\", \"23\", \"24\", \"25\", \"26\", \"27\", \"28\", \"29\", \"30\", \"31\"], \"mode\": \"lines\", \"name\": \"root_mean_squared_error_min\", \"stepped\": true, \"type\": \"scatter\", \"data\": [4.00790390424653, 3.94946912640455, 3.94946912640455, 3.94946912640455, 3.94946912640455, 3.94946912640455, 3.94946912640455, 3.930480558898698, 3.8639772160131285, 3.8639772160131285, 3.8639772160131285, 3.8639772160131285, 3.8639772160131285, 3.8639772160131285, 3.8639772160131285, 3.8639772160131285, 3.8639772160131285, 3.857310339490391, 3.857310339490391, 3.857310339490391, 3.857310339490391, 3.857310339490391, 3.857310339490391, 3.857310339490391, 3.857310339490391, 3.857310339490391, 3.857310339490391, 3.857310339490391, 3.857310339490391, 3.857310339490391, 3.857310339490391, 3.8538856618444726]}], \"r2_score\": [{\"categories\": [\"0\", \"1\", \"2\", \"3\", \"4\", \"5\", \"6\", \"7\", \"8\", \"9\", \"10\", \"11\", \"12\", \"13\", \"14\", \"15\", \"16\", \"17\", \"18\", \"19\", \"20\", \"21\", \"22\", \"23\", \"24\", \"25\", \"26\", \"27\", \"28\", \"29\", \"30\", \"31\"], \"mode\": \"markers\", \"name\": \"r2_score\", \"stepped\": false, \"type\": \"scatter\", \"data\": [0.851324352340163, 0.8552814625962922, 0.7531812503748416, 0.7482534960327996, 0.8462878424919579, 0.8259165478175332, 0.8515234420163065, 0.8570468686986119, 0.8615564436706601, 0.8500299750557465, 0.7668401368988664, 0.8503358196404622, 0.6904384665357046, 0.5293292684901323, 0.8395654257668095, 0.8402173063480713, 0.8183167166919795, 0.8619911604229096, 0.7961561061624183, 0.7008753619862691, 0.763920983144905, 0.8608448619268907, 0.6943344120191377, 0.7580984367971604, 0.8522114046790167, -0.00042385222001897207, 0.8256962450413605, 0.8515409214360167, 0.841225122303082, 0.7927843176850776, 0.8583783753167907, 0.8623191089651037]}, {\"categories\": [\"0\", \"1\", \"2\", \"3\", \"4\", \"5\", \"6\", \"7\", \"8\", \"9\", \"10\", \"11\", \"12\", \"13\", \"14\", \"15\", \"16\", \"17\", \"18\", \"19\", \"20\", \"21\", \"22\", \"23\", \"24\", \"25\", \"26\", \"27\", \"28\", \"29\", \"30\", \"31\"], \"mode\": \"lines\", \"name\": \"r2_score_max\", \"stepped\": true, \"type\": \"scatter\", \"data\": [0.851324352340163, 0.8552814625962922, 0.8552814625962922, 0.8552814625962922, 0.8552814625962922, 0.8552814625962922, 0.8552814625962922, 0.8570468686986119, 0.8615564436706601, 0.8615564436706601, 0.8615564436706601, 0.8615564436706601, 0.8615564436706601, 0.8615564436706601, 0.8615564436706601, 0.8615564436706601, 0.8615564436706601, 0.8619911604229096, 0.8619911604229096, 0.8619911604229096, 0.8619911604229096, 0.8619911604229096, 0.8619911604229096, 0.8619911604229096, 0.8619911604229096, 0.8619911604229096, 0.8619911604229096, 0.8619911604229096, 0.8619911604229096, 0.8619911604229096, 0.8619911604229096, 0.8623191089651037]}], \"spearman_correlation\": [{\"categories\": [\"0\", \"1\", \"2\", \"3\", \"4\", \"5\", \"6\", \"7\", \"8\", \"9\", \"10\", \"11\", \"12\", \"13\", \"14\", \"15\", \"16\", \"17\", \"18\", \"19\", \"20\", \"21\", \"22\", \"23\", \"24\", \"25\", \"26\", \"27\", \"28\", \"29\", \"30\", \"31\"], \"mode\": \"markers\", \"name\": \"spearman_correlation\", \"stepped\": false, \"type\": \"scatter\", \"data\": [0.9440207948019322, 0.9443784992453577, 0.9117031988004225, 0.9211535220460842, 0.941244793929546, 0.9423254880079067, 0.943181388971104, 0.9423308073194697, 0.9447805830059354, 0.943477031614598, 0.924126635315746, 0.9412456171867664, 0.8890658870105803, 0.8883257540909719, 0.9437233894865379, 0.9426835044859736, 0.9440088662511466, 0.9447233061675396, 0.9417878306960221, 0.9009253650276461, 0.9403306151326951, 0.9447426984379707, 0.9390955832187092, 0.9438479660954131, 0.9446696445538061, -1.0, 0.9403030836005575, 0.9445790147652702, 0.9439261182516306, 0.9409651845662689, 0.9448986119296798, 0.9448435323260578]}, {\"categories\": [\"0\", \"1\", \"2\", \"3\", \"4\", \"5\", \"6\", \"7\", \"8\", \"9\", \"10\", \"11\", \"12\", \"13\", \"14\", \"15\", \"16\", \"17\", \"18\", \"19\", \"20\", \"21\", \"22\", \"23\", \"24\", \"25\", \"26\", \"27\", \"28\", \"29\", \"30\", \"31\"], \"mode\": \"lines\", \"name\": \"spearman_correlation_max\", \"stepped\": true, \"type\": \"scatter\", \"data\": [0.9440207948019322, 0.9443784992453577, 0.9443784992453577, 0.9443784992453577, 0.9443784992453577, 0.9443784992453577, 0.9443784992453577, 0.9443784992453577, 0.9447805830059354, 0.9447805830059354, 0.9447805830059354, 0.9447805830059354, 0.9447805830059354, 0.9447805830059354, 0.9447805830059354, 0.9447805830059354, 0.9447805830059354, 0.9447805830059354, 0.9447805830059354, 0.9447805830059354, 0.9447805830059354, 0.9447805830059354, 0.9447805830059354, 0.9447805830059354, 0.9447805830059354, 0.9447805830059354, 0.9447805830059354, 0.9447805830059354, 0.9447805830059354, 0.9447805830059354, 0.9448986119296798, 0.9448986119296798]}]}, \"metricName\": null, \"primaryMetricName\": \"spearman_correlation\", \"showLegend\": false}, \"run_metrics\": [{\"name\": \"normalized_median_absolute_error\", \"run_id\": \"AutoML_a33261b2-50c2-411d-9b5c-b721eccd4fa7\", \"categories\": [0], \"series\": [{\"data\": [0.006673035456722429]}]}, {\"name\": \"r2_score\", \"run_id\": \"AutoML_a33261b2-50c2-411d-9b5c-b721eccd4fa7\", \"categories\": [0], \"series\": [{\"data\": [0.8583783753167907]}]}, {\"name\": \"root_mean_squared_log_error\", \"run_id\": \"AutoML_a33261b2-50c2-411d-9b5c-b721eccd4fa7\", \"categories\": [0], \"series\": [{\"data\": [0.17499440572063266]}]}, {\"name\": \"normalized_root_mean_squared_error\", \"run_id\": \"AutoML_a33261b2-50c2-411d-9b5c-b721eccd4fa7\", \"categories\": [0], \"series\": [{\"data\": [0.02040025502979285]}]}, {\"name\": \"normalized_mean_absolute_error\", \"run_id\": \"AutoML_a33261b2-50c2-411d-9b5c-b721eccd4fa7\", \"categories\": [0], \"series\": [{\"data\": [0.010819821769404268]}]}, {\"name\": \"spearman_correlation\", \"run_id\": \"AutoML_a33261b2-50c2-411d-9b5c-b721eccd4fa7\", \"categories\": [0], \"series\": [{\"data\": [0.9448986119296798]}]}, {\"name\": \"median_absolute_error\", \"run_id\": \"AutoML_a33261b2-50c2-411d-9b5c-b721eccd4fa7\", \"categories\": [0], \"series\": [{\"data\": [1.2791541666991224]}]}, {\"name\": \"mean_absolute_percentage_error\", \"run_id\": \"AutoML_a33261b2-50c2-411d-9b5c-b721eccd4fa7\", \"categories\": [0], \"series\": [{\"data\": [74.08230593596997]}]}, {\"name\": \"explained_variance\", \"run_id\": \"AutoML_a33261b2-50c2-411d-9b5c-b721eccd4fa7\", \"categories\": [0], \"series\": [{\"data\": [0.8588664859861798]}]}, {\"name\": \"root_mean_squared_error\", \"run_id\": \"AutoML_a33261b2-50c2-411d-9b5c-b721eccd4fa7\", \"categories\": [0], \"series\": [{\"data\": [3.910524886660992]}]}, {\"name\": \"normalized_root_mean_squared_log_error\", \"run_id\": \"AutoML_a33261b2-50c2-411d-9b5c-b721eccd4fa7\", \"categories\": [0], \"series\": [{\"data\": [0.03332475067917888]}]}, {\"name\": \"mean_absolute_error\", \"run_id\": \"AutoML_a33261b2-50c2-411d-9b5c-b721eccd4fa7\", \"categories\": [0], \"series\": [{\"data\": [2.074051634977104]}]}], \"run_logs\": \"\\nRun is completed.\", \"graph\": {}, \"widget_settings\": {\"childWidgetDisplay\": \"popup\", \"send_telemetry\": false, \"log_level\": \"INFO\", \"sdk_version\": \"1.30.0\"}, \"loading\": false}"
          },
          "metadata": {}
        }
      ],
      "execution_count": 13,
      "metadata": {
        "gather": {
          "logged": 1624528688787
        }
      }
    },
    {
      "cell_type": "markdown",
      "source": [
        "### Retrieve the best model"
      ],
      "metadata": {}
    },
    {
      "cell_type": "markdown",
      "source": [
        "Select the best model from your iterations. The `get_output` function returns the best run and the fitted model for the last fit invocation. By using the overloads on `get_output`, you can retrieve the best run and fitted model for any logged metric or a particular iteration."
      ],
      "metadata": {}
    },
    {
      "cell_type": "code",
      "source": [
        "best_run, fitted_model = local_run.get_output()\n",
        "print(best_run)\n",
        "print(fitted_model)"
      ],
      "outputs": [
        {
          "output_type": "stream",
          "name": "stdout",
          "text": [
            "Run(Experiment: Tutorial-NYCTaxi-LIVE,\n",
            "Id: AutoML_a33261b2-50c2-411d-9b5c-b721eccd4fa7_30,\n",
            "Type: None,\n",
            "Status: Completed)\n",
            "RegressionPipeline(pipeline=Pipeline(memory=None,\n",
            "                                     steps=[('datatransformer',\n",
            "                                             DataTransformer(enable_dnn=False, enable_feature_sweeping=True, feature_sweeping_config={}, feature_sweeping_timeout=86400, featurization_config=None, force_text_dnn=False, is_cross_validation=True, is_onnx_compatible=False, observer=None, task='regression', working_dir='/mnt/batch/ta...\n",
            "    timeseries_param_dict=None,\n",
            "    gpu_training_param_dict={'processing_unit_type': 'cpu'}\n",
            "), random_state=0, reg_alpha=0, reg_lambda=0.8333333333333334, subsample=0.8, tree_method='auto'))], verbose=False))], weights=[0.13333333333333333, 0.06666666666666667, 0.06666666666666667, 0.4, 0.13333333333333333, 0.06666666666666667, 0.13333333333333333]))],\n",
            "                                     verbose=False),\n",
            "                   stddev=[3.9163935830220966])\n"
          ]
        }
      ],
      "execution_count": 14,
      "metadata": {
        "gather": {
          "logged": 1624528689640
        }
      }
    },
    {
      "cell_type": "markdown",
      "source": [
        "### Test the best model accuracy"
      ],
      "metadata": {}
    },
    {
      "cell_type": "markdown",
      "source": [
        "Use the best model to run predictions on the test data set to predict taxi fares. The function `predict` uses the best model and predicts the values of y, **trip cost**, from the `x_test` data set. Print the first 10 predicted cost values from `y_predict`."
      ],
      "metadata": {}
    },
    {
      "cell_type": "code",
      "source": [
        "y_test = x_test.pop(\"totalAmount\")\n",
        "\n",
        "y_predict = fitted_model.predict(x_test)\n",
        "print(y_predict[:10])"
      ],
      "outputs": [
        {
          "output_type": "stream",
          "name": "stdout",
          "text": [
            "[13.15696369 10.05414941 14.614437    8.72629019 14.50762831  6.9117663\n",
            " 19.94336619 12.88315871 11.009376   14.49779111]\n"
          ]
        }
      ],
      "execution_count": 15,
      "metadata": {
        "gather": {
          "logged": 1624528690435
        }
      }
    },
    {
      "cell_type": "markdown",
      "source": [
        "Calculate the `root mean squared error` of the results. Convert the `y_test` dataframe to a list to compare to the predicted values. The function `mean_squared_error` takes two arrays of values and calculates the average squared error between them. Taking the square root of the result gives an error in the same units as the y variable, **cost**. It indicates roughly how far the taxi fare predictions are from the actual fares."
      ],
      "metadata": {}
    },
    {
      "cell_type": "code",
      "source": [
        "from sklearn.metrics import mean_squared_error\n",
        "from math import sqrt\n",
        "\n",
        "y_actual = y_test.values.flatten().tolist()\n",
        "rmse = sqrt(mean_squared_error(y_actual, y_predict))\n",
        "rmse"
      ],
      "outputs": [
        {
          "output_type": "execute_result",
          "execution_count": 16,
          "data": {
            "text/plain": "3.7136850574399456"
          },
          "metadata": {}
        }
      ],
      "execution_count": 16,
      "metadata": {
        "gather": {
          "logged": 1624528690819
        }
      }
    },
    {
      "cell_type": "markdown",
      "source": [
        "Run the following code to calculate mean absolute percent error (MAPE) by using the full `y_actual` and `y_predict` data sets. This metric calculates an absolute difference between each predicted and actual value and sums all the differences. Then it expresses that sum as a percent of the total of the actual values."
      ],
      "metadata": {}
    },
    {
      "cell_type": "code",
      "source": [
        "sum_actuals = sum_errors = 0\n",
        "\n",
        "for actual_val, predict_val in zip(y_actual, y_predict):\n",
        "    abs_error = actual_val - predict_val\n",
        "    if abs_error < 0:\n",
        "        abs_error = abs_error * -1\n",
        "\n",
        "    sum_errors = sum_errors + abs_error\n",
        "    sum_actuals = sum_actuals + actual_val\n",
        "\n",
        "mean_abs_percent_error = sum_errors / sum_actuals\n",
        "print(\"Model MAPE:\")\n",
        "print(mean_abs_percent_error)\n",
        "print()\n",
        "print(\"Model Accuracy:\")\n",
        "print(1 - mean_abs_percent_error)"
      ],
      "outputs": [
        {
          "output_type": "stream",
          "name": "stdout",
          "text": [
            "Model MAPE:\n",
            "0.13593995627568936\n",
            "\n",
            "Model Accuracy:\n",
            "0.8640600437243107\n"
          ]
        }
      ],
      "execution_count": 17,
      "metadata": {
        "gather": {
          "logged": 1624528691081
        }
      }
    },
    {
      "cell_type": "markdown",
      "source": [
        "From the two prediction accuracy metrics, you see that the model is fairly good at predicting taxi fares from the data set's features, typically within +- $4.00, and approximately 15% error. \n",
        "\n",
        "The traditional machine learning model development process is highly resource-intensive, and requires significant domain knowledge and time investment to run and compare the results of dozens of models. Using automated machine learning is a great way to rapidly test many different models for your scenario."
      ],
      "metadata": {}
    },
    {
      "cell_type": "markdown",
      "source": [
        "## Clean up resources"
      ],
      "metadata": {}
    },
    {
      "cell_type": "markdown",
      "source": [
        "Do not complete this section if you plan on running other Azure Machine Learning service tutorials."
      ],
      "metadata": {}
    },
    {
      "cell_type": "markdown",
      "source": [
        "### Stop the notebook VM"
      ],
      "metadata": {}
    },
    {
      "cell_type": "markdown",
      "source": [
        "If you used a cloud notebook server, stop the VM when you are not using it to reduce cost."
      ],
      "metadata": {}
    },
    {
      "cell_type": "markdown",
      "source": [
        "1. In your workspace, select **Compute**.\n",
        "1. Select the **Notebook VMs** tab in the compute page.\n",
        "1. From the list, select the VM.\n",
        "1. Select **Stop**.\n",
        "1. When you're ready to use the server again, select **Start**."
      ],
      "metadata": {}
    },
    {
      "cell_type": "markdown",
      "source": [
        "### Delete everything"
      ],
      "metadata": {}
    },
    {
      "cell_type": "markdown",
      "source": [
        "If you don't plan to use the resources you created, delete them, so you don't incur any charges."
      ],
      "metadata": {}
    },
    {
      "cell_type": "markdown",
      "source": [
        "1. In the Azure portal, select **Resource groups** on the far left.\n",
        "1. From the list, select the resource group you created.\n",
        "1. Select **Delete resource group**.\n",
        "1. Enter the resource group name. Then select **Delete**.\n",
        "\n",
        "You can also keep the resource group but delete a single workspace. Display the workspace properties and select **Delete**."
      ],
      "metadata": {}
    },
    {
      "cell_type": "markdown",
      "source": [
        "## Next steps"
      ],
      "metadata": {}
    },
    {
      "cell_type": "markdown",
      "source": [
        "In this automated machine learning tutorial, you did the following tasks:\n",
        "\n",
        "> * Configured a workspace and prepared data for an experiment.\n",
        "> * Trained by using an automated regression model locally with custom parameters.\n",
        "> * Explored and reviewed training results.\n",
        "\n",
        "[Deploy your model](https://docs.microsoft.com/azure/machine-learning/service/tutorial-deploy-models-with-aml) with Azure Machine Learning service."
      ],
      "metadata": {}
    },
    {
      "cell_type": "code",
      "source": [],
      "outputs": [],
      "execution_count": null,
      "metadata": {}
    }
  ],
  "metadata": {
    "authors": [
      {
        "name": "jeffshep"
      }
    ],
    "microsoft": {
      "host": {
        "AzureML": {
          "notebookHasBeenCompleted": true
        }
      }
    },
    "network_required": false,
    "kernel_info": {
      "name": "python3-azureml"
    },
    "msauthor": "trbye",
    "language_info": {
      "name": "python",
      "version": "3.6.9",
      "mimetype": "text/x-python",
      "codemirror_mode": {
        "name": "ipython",
        "version": 3
      },
      "pygments_lexer": "ipython3",
      "nbconvert_exporter": "python",
      "file_extension": ".py"
    },
    "kernelspec": {
      "name": "python3-azureml",
      "language": "python",
      "display_name": "Python 3.6 - AzureML"
    },
    "categories": [
      "tutorials"
    ],
    "nteract": {
      "version": "nteract-front-end@1.0.0"
    }
  },
  "nbformat": 4,
  "nbformat_minor": 2
}